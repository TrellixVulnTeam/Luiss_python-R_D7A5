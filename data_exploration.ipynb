{
 "cells": [
  {
   "cell_type": "markdown",
   "id": "5de30a69",
   "metadata": {},
   "source": [
    "# Python and R for Data Science\n",
    "## Group Assignment Part 2: Analysis of our own Dataset."
   ]
  },
  {
   "cell_type": "markdown",
   "id": "f08bbb2a",
   "metadata": {},
   "source": [
    "### Necessary Imports"
   ]
  },
  {
   "cell_type": "code",
   "execution_count": 1,
   "id": "2407584e",
   "metadata": {},
   "outputs": [],
   "source": [
    "import pandas as pd\n",
    "import numpy as np\n",
    "import matplotlib.pyplot as plt"
   ]
  },
  {
   "cell_type": "markdown",
   "id": "abe4bf6b",
   "metadata": {},
   "source": [
    "### Setup"
   ]
  },
  {
   "cell_type": "markdown",
   "id": "4b732d2b",
   "metadata": {},
   "source": [
    "PATH variable is computer dependant and should be modify to match the location of the _output_db.csv_."
   ]
  },
  {
   "cell_type": "code",
   "execution_count": 2,
   "id": "a781fe36",
   "metadata": {},
   "outputs": [],
   "source": [
    "PATH = '/home/loicvdk/Documents/Exchange_LUISS/python_and_r/group_assignment/output_db.csv'"
   ]
  },
  {
   "cell_type": "markdown",
   "id": "921fb187",
   "metadata": {},
   "source": [
    "Store all the data from the _output_db.csv_ in the df pandas dataframe."
   ]
  },
  {
   "cell_type": "code",
   "execution_count": 3,
   "id": "8553e3e8",
   "metadata": {},
   "outputs": [],
   "source": [
    "df = pd.read_csv(PATH)"
   ]
  },
  {
   "cell_type": "markdown",
   "id": "60d6448a",
   "metadata": {},
   "source": [
    "The pandas .head() function return the 5 first rows of the dataframe. This allows us to have a look at the data. "
   ]
  },
  {
   "cell_type": "code",
   "execution_count": 4,
   "id": "290a9921",
   "metadata": {},
   "outputs": [
    {
     "data": {
      "text/html": [
       "<div>\n",
       "<style scoped>\n",
       "    .dataframe tbody tr th:only-of-type {\n",
       "        vertical-align: middle;\n",
       "    }\n",
       "\n",
       "    .dataframe tbody tr th {\n",
       "        vertical-align: top;\n",
       "    }\n",
       "\n",
       "    .dataframe thead th {\n",
       "        text-align: right;\n",
       "    }\n",
       "</style>\n",
       "<table border=\"1\" class=\"dataframe\">\n",
       "  <thead>\n",
       "    <tr style=\"text-align: right;\">\n",
       "      <th></th>\n",
       "      <th>Unnamed: 0</th>\n",
       "      <th>Title</th>\n",
       "      <th>Year</th>\n",
       "      <th>Rated</th>\n",
       "      <th>Released</th>\n",
       "      <th>Runtime</th>\n",
       "      <th>Genre</th>\n",
       "      <th>Director</th>\n",
       "      <th>Writer</th>\n",
       "      <th>Actors</th>\n",
       "      <th>...</th>\n",
       "      <th>imdbRating</th>\n",
       "      <th>imdbVotes</th>\n",
       "      <th>imdbID</th>\n",
       "      <th>Type</th>\n",
       "      <th>DVD</th>\n",
       "      <th>BoxOffice</th>\n",
       "      <th>Production</th>\n",
       "      <th>Website</th>\n",
       "      <th>Response</th>\n",
       "      <th>Error</th>\n",
       "    </tr>\n",
       "  </thead>\n",
       "  <tbody>\n",
       "    <tr>\n",
       "      <th>0</th>\n",
       "      <td>0</td>\n",
       "      <td>Carmencita</td>\n",
       "      <td>1894.0</td>\n",
       "      <td>Not Rated</td>\n",
       "      <td>10 Mar 1894</td>\n",
       "      <td>1 min</td>\n",
       "      <td>Documentary, Short</td>\n",
       "      <td>William K.L. Dickson</td>\n",
       "      <td>NaN</td>\n",
       "      <td>Carmencita</td>\n",
       "      <td>...</td>\n",
       "      <td>5.7</td>\n",
       "      <td>1,832</td>\n",
       "      <td>tt0000001</td>\n",
       "      <td>movie</td>\n",
       "      <td>NaN</td>\n",
       "      <td>NaN</td>\n",
       "      <td>NaN</td>\n",
       "      <td>NaN</td>\n",
       "      <td>True</td>\n",
       "      <td>NaN</td>\n",
       "    </tr>\n",
       "    <tr>\n",
       "      <th>1</th>\n",
       "      <td>1</td>\n",
       "      <td>Le clown et ses chiens</td>\n",
       "      <td>1892.0</td>\n",
       "      <td>NaN</td>\n",
       "      <td>28 Oct 1892</td>\n",
       "      <td>5 min</td>\n",
       "      <td>Animation, Short</td>\n",
       "      <td>Émile Reynaud</td>\n",
       "      <td>NaN</td>\n",
       "      <td>NaN</td>\n",
       "      <td>...</td>\n",
       "      <td>6.0</td>\n",
       "      <td>236</td>\n",
       "      <td>tt0000002</td>\n",
       "      <td>movie</td>\n",
       "      <td>NaN</td>\n",
       "      <td>NaN</td>\n",
       "      <td>NaN</td>\n",
       "      <td>NaN</td>\n",
       "      <td>True</td>\n",
       "      <td>NaN</td>\n",
       "    </tr>\n",
       "    <tr>\n",
       "      <th>2</th>\n",
       "      <td>2</td>\n",
       "      <td>Pauvre Pierrot</td>\n",
       "      <td>1892.0</td>\n",
       "      <td>TV-PG</td>\n",
       "      <td>28 Oct 1892</td>\n",
       "      <td>4 min</td>\n",
       "      <td>Animation, Comedy, Short</td>\n",
       "      <td>Émile Reynaud</td>\n",
       "      <td>NaN</td>\n",
       "      <td>NaN</td>\n",
       "      <td>...</td>\n",
       "      <td>6.5</td>\n",
       "      <td>1,578</td>\n",
       "      <td>tt0000003</td>\n",
       "      <td>movie</td>\n",
       "      <td>NaN</td>\n",
       "      <td>NaN</td>\n",
       "      <td>NaN</td>\n",
       "      <td>NaN</td>\n",
       "      <td>True</td>\n",
       "      <td>NaN</td>\n",
       "    </tr>\n",
       "    <tr>\n",
       "      <th>3</th>\n",
       "      <td>3</td>\n",
       "      <td>Un bon bock</td>\n",
       "      <td>1892.0</td>\n",
       "      <td>NaN</td>\n",
       "      <td>28 Oct 1892</td>\n",
       "      <td>12 min</td>\n",
       "      <td>Animation, Short</td>\n",
       "      <td>Émile Reynaud</td>\n",
       "      <td>NaN</td>\n",
       "      <td>NaN</td>\n",
       "      <td>...</td>\n",
       "      <td>6.1</td>\n",
       "      <td>151</td>\n",
       "      <td>tt0000004</td>\n",
       "      <td>movie</td>\n",
       "      <td>NaN</td>\n",
       "      <td>NaN</td>\n",
       "      <td>NaN</td>\n",
       "      <td>NaN</td>\n",
       "      <td>True</td>\n",
       "      <td>NaN</td>\n",
       "    </tr>\n",
       "    <tr>\n",
       "      <th>4</th>\n",
       "      <td>4</td>\n",
       "      <td>Blacksmith Scene</td>\n",
       "      <td>1893.0</td>\n",
       "      <td>Unrated</td>\n",
       "      <td>09 May 1893</td>\n",
       "      <td>1 min</td>\n",
       "      <td>Short, Comedy</td>\n",
       "      <td>William K.L. Dickson</td>\n",
       "      <td>NaN</td>\n",
       "      <td>Charles Kayser, John Ott</td>\n",
       "      <td>...</td>\n",
       "      <td>6.2</td>\n",
       "      <td>2,404</td>\n",
       "      <td>tt0000005</td>\n",
       "      <td>movie</td>\n",
       "      <td>NaN</td>\n",
       "      <td>NaN</td>\n",
       "      <td>NaN</td>\n",
       "      <td>NaN</td>\n",
       "      <td>True</td>\n",
       "      <td>NaN</td>\n",
       "    </tr>\n",
       "  </tbody>\n",
       "</table>\n",
       "<p>5 rows × 27 columns</p>\n",
       "</div>"
      ],
      "text/plain": [
       "   Unnamed: 0                   Title    Year      Rated     Released Runtime  \\\n",
       "0           0              Carmencita  1894.0  Not Rated  10 Mar 1894   1 min   \n",
       "1           1  Le clown et ses chiens  1892.0        NaN  28 Oct 1892   5 min   \n",
       "2           2          Pauvre Pierrot  1892.0      TV-PG  28 Oct 1892   4 min   \n",
       "3           3             Un bon bock  1892.0        NaN  28 Oct 1892  12 min   \n",
       "4           4        Blacksmith Scene  1893.0    Unrated  09 May 1893   1 min   \n",
       "\n",
       "                      Genre              Director Writer  \\\n",
       "0        Documentary, Short  William K.L. Dickson    NaN   \n",
       "1          Animation, Short         Émile Reynaud    NaN   \n",
       "2  Animation, Comedy, Short         Émile Reynaud    NaN   \n",
       "3          Animation, Short         Émile Reynaud    NaN   \n",
       "4             Short, Comedy  William K.L. Dickson    NaN   \n",
       "\n",
       "                     Actors  ... imdbRating imdbVotes     imdbID   Type DVD  \\\n",
       "0                Carmencita  ...        5.7     1,832  tt0000001  movie NaN   \n",
       "1                       NaN  ...        6.0       236  tt0000002  movie NaN   \n",
       "2                       NaN  ...        6.5     1,578  tt0000003  movie NaN   \n",
       "3                       NaN  ...        6.1       151  tt0000004  movie NaN   \n",
       "4  Charles Kayser, John Ott  ...        6.2     2,404  tt0000005  movie NaN   \n",
       "\n",
       "  BoxOffice  Production  Website Response Error  \n",
       "0       NaN         NaN      NaN     True   NaN  \n",
       "1       NaN         NaN      NaN     True   NaN  \n",
       "2       NaN         NaN      NaN     True   NaN  \n",
       "3       NaN         NaN      NaN     True   NaN  \n",
       "4       NaN         NaN      NaN     True   NaN  \n",
       "\n",
       "[5 rows x 27 columns]"
      ]
     },
     "execution_count": 4,
     "metadata": {},
     "output_type": "execute_result"
    }
   ],
   "source": [
    "df.head()"
   ]
  },
  {
   "cell_type": "markdown",
   "id": "dfddd796",
   "metadata": {},
   "source": [
    "The pandas .describe() function gives us statistical informations about every numerical feature present in our dataset. "
   ]
  },
  {
   "cell_type": "code",
   "execution_count": 5,
   "id": "7e343d44",
   "metadata": {},
   "outputs": [
    {
     "data": {
      "text/html": [
       "<div>\n",
       "<style scoped>\n",
       "    .dataframe tbody tr th:only-of-type {\n",
       "        vertical-align: middle;\n",
       "    }\n",
       "\n",
       "    .dataframe tbody tr th {\n",
       "        vertical-align: top;\n",
       "    }\n",
       "\n",
       "    .dataframe thead th {\n",
       "        text-align: right;\n",
       "    }\n",
       "</style>\n",
       "<table border=\"1\" class=\"dataframe\">\n",
       "  <thead>\n",
       "    <tr style=\"text-align: right;\">\n",
       "      <th></th>\n",
       "      <th>Unnamed: 0</th>\n",
       "      <th>Year</th>\n",
       "      <th>Metascore</th>\n",
       "      <th>imdbRating</th>\n",
       "      <th>DVD</th>\n",
       "      <th>BoxOffice</th>\n",
       "      <th>Production</th>\n",
       "      <th>Website</th>\n",
       "    </tr>\n",
       "  </thead>\n",
       "  <tbody>\n",
       "    <tr>\n",
       "      <th>count</th>\n",
       "      <td>1000.000000</td>\n",
       "      <td>999.000000</td>\n",
       "      <td>0.0</td>\n",
       "      <td>665.000000</td>\n",
       "      <td>0.0</td>\n",
       "      <td>0.0</td>\n",
       "      <td>0.0</td>\n",
       "      <td>0.0</td>\n",
       "    </tr>\n",
       "    <tr>\n",
       "      <th>mean</th>\n",
       "      <td>499.500000</td>\n",
       "      <td>1903.568569</td>\n",
       "      <td>NaN</td>\n",
       "      <td>5.352932</td>\n",
       "      <td>NaN</td>\n",
       "      <td>NaN</td>\n",
       "      <td>NaN</td>\n",
       "      <td>NaN</td>\n",
       "    </tr>\n",
       "    <tr>\n",
       "      <th>std</th>\n",
       "      <td>288.819436</td>\n",
       "      <td>4.981836</td>\n",
       "      <td>NaN</td>\n",
       "      <td>0.943922</td>\n",
       "      <td>NaN</td>\n",
       "      <td>NaN</td>\n",
       "      <td>NaN</td>\n",
       "      <td>NaN</td>\n",
       "    </tr>\n",
       "    <tr>\n",
       "      <th>min</th>\n",
       "      <td>0.000000</td>\n",
       "      <td>1892.000000</td>\n",
       "      <td>NaN</td>\n",
       "      <td>2.800000</td>\n",
       "      <td>NaN</td>\n",
       "      <td>NaN</td>\n",
       "      <td>NaN</td>\n",
       "      <td>NaN</td>\n",
       "    </tr>\n",
       "    <tr>\n",
       "      <th>25%</th>\n",
       "      <td>249.750000</td>\n",
       "      <td>1899.000000</td>\n",
       "      <td>NaN</td>\n",
       "      <td>4.700000</td>\n",
       "      <td>NaN</td>\n",
       "      <td>NaN</td>\n",
       "      <td>NaN</td>\n",
       "      <td>NaN</td>\n",
       "    </tr>\n",
       "    <tr>\n",
       "      <th>50%</th>\n",
       "      <td>499.500000</td>\n",
       "      <td>1905.000000</td>\n",
       "      <td>NaN</td>\n",
       "      <td>5.300000</td>\n",
       "      <td>NaN</td>\n",
       "      <td>NaN</td>\n",
       "      <td>NaN</td>\n",
       "      <td>NaN</td>\n",
       "    </tr>\n",
       "    <tr>\n",
       "      <th>75%</th>\n",
       "      <td>749.250000</td>\n",
       "      <td>1908.000000</td>\n",
       "      <td>NaN</td>\n",
       "      <td>6.000000</td>\n",
       "      <td>NaN</td>\n",
       "      <td>NaN</td>\n",
       "      <td>NaN</td>\n",
       "      <td>NaN</td>\n",
       "    </tr>\n",
       "    <tr>\n",
       "      <th>max</th>\n",
       "      <td>999.000000</td>\n",
       "      <td>1914.000000</td>\n",
       "      <td>NaN</td>\n",
       "      <td>8.200000</td>\n",
       "      <td>NaN</td>\n",
       "      <td>NaN</td>\n",
       "      <td>NaN</td>\n",
       "      <td>NaN</td>\n",
       "    </tr>\n",
       "  </tbody>\n",
       "</table>\n",
       "</div>"
      ],
      "text/plain": [
       "        Unnamed: 0         Year  Metascore  imdbRating  DVD  BoxOffice  \\\n",
       "count  1000.000000   999.000000        0.0  665.000000  0.0        0.0   \n",
       "mean    499.500000  1903.568569        NaN    5.352932  NaN        NaN   \n",
       "std     288.819436     4.981836        NaN    0.943922  NaN        NaN   \n",
       "min       0.000000  1892.000000        NaN    2.800000  NaN        NaN   \n",
       "25%     249.750000  1899.000000        NaN    4.700000  NaN        NaN   \n",
       "50%     499.500000  1905.000000        NaN    5.300000  NaN        NaN   \n",
       "75%     749.250000  1908.000000        NaN    6.000000  NaN        NaN   \n",
       "max     999.000000  1914.000000        NaN    8.200000  NaN        NaN   \n",
       "\n",
       "       Production  Website  \n",
       "count         0.0      0.0  \n",
       "mean          NaN      NaN  \n",
       "std           NaN      NaN  \n",
       "min           NaN      NaN  \n",
       "25%           NaN      NaN  \n",
       "50%           NaN      NaN  \n",
       "75%           NaN      NaN  \n",
       "max           NaN      NaN  "
      ]
     },
     "execution_count": 5,
     "metadata": {},
     "output_type": "execute_result"
    }
   ],
   "source": [
    "df.describe()"
   ]
  },
  {
   "cell_type": "markdown",
   "id": "80c7ff0a",
   "metadata": {},
   "source": [
    "### Data Preparation"
   ]
  },
  {
   "cell_type": "markdown",
   "id": "a9155b76",
   "metadata": {},
   "source": [
    "#### Runtime"
   ]
  },
  {
   "cell_type": "markdown",
   "id": "521ee144",
   "metadata": {},
   "source": [
    "We decided to plot an histogram of the different films' runtime availabe. For that we isolated the _Runtime_ column and dropped the _NA_ values. "
   ]
  },
  {
   "cell_type": "code",
   "execution_count": 6,
   "id": "b73b4f32",
   "metadata": {},
   "outputs": [],
   "source": [
    "df_runtime = df['Runtime']"
   ]
  },
  {
   "cell_type": "code",
   "execution_count": 7,
   "id": "ffe9f20e",
   "metadata": {
    "scrolled": false
   },
   "outputs": [
    {
     "data": {
      "text/plain": [
       "0     1 min\n",
       "1     5 min\n",
       "2     4 min\n",
       "3    12 min\n",
       "4     1 min\n",
       "Name: Runtime, dtype: object"
      ]
     },
     "execution_count": 7,
     "metadata": {},
     "output_type": "execute_result"
    }
   ],
   "source": [
    "df_runtime.head()"
   ]
  },
  {
   "cell_type": "code",
   "execution_count": 8,
   "id": "0acbacaf",
   "metadata": {},
   "outputs": [],
   "source": [
    "df_runtime = df_runtime.dropna()"
   ]
  },
  {
   "cell_type": "markdown",
   "id": "0336040b",
   "metadata": {},
   "source": [
    "As you may have noticed, runtime features are stored as \"_int_ \\n min\". This is a problem as matplotlib will not be able to interpret those data as numerical. For that reason, we use the split() function to separate the int part and the str part. Then we kept only the first element of the returned list (the int part) and append it to a new list. After the for loop, the _list_runtime_ will only contain the number of minute each film lasts."
   ]
  },
  {
   "cell_type": "code",
   "execution_count": 9,
   "id": "fe3fcb2d",
   "metadata": {},
   "outputs": [
    {
     "name": "stdout",
     "output_type": "stream",
     "text": [
      "1 min\n",
      "5 min\n",
      "4 min\n",
      "12 min\n",
      "1 min\n",
      "1 min\n",
      "1 min\n",
      "1 min\n",
      "40 min\n",
      "1 min\n",
      "1 min\n",
      "1 min\n",
      "1 min\n",
      "1 min\n",
      "2 min\n",
      "1 min\n",
      "1 min\n",
      "1 min\n",
      "1 min\n",
      "1 min\n",
      "1 min\n",
      "1 min\n",
      "1 min\n",
      "1 min\n",
      "1 min\n",
      "1 min\n",
      "1 min\n",
      "1 min\n",
      "1 min\n",
      "1 min\n",
      "1 min\n",
      "1 min\n",
      "25S min\n",
      "1 min\n",
      "1 min\n",
      "1 min\n",
      "1 min\n",
      "1 min\n",
      "1 min\n",
      "1 min\n",
      "1 min\n",
      "1 min\n",
      "1 min\n",
      "1 min\n",
      "3 min\n",
      "1 min\n",
      "1 min\n",
      "1 min\n",
      "1 min\n",
      "1 min\n",
      "1 min\n",
      "25S min\n",
      "1 min\n",
      "1 min\n",
      "1 min\n",
      "1 min\n",
      "1 min\n",
      "2 min\n",
      "1 min\n",
      "2 min\n",
      "1 min\n",
      "1 min\n",
      "20 min\n",
      "1 min\n",
      "2 min\n",
      "1 min\n",
      "1 min\n",
      "1 min\n",
      "1 min\n",
      "1 min\n",
      "1 min\n",
      "1 min\n",
      "1 min\n",
      "1 min\n",
      "1 min\n",
      "1 min\n",
      "1 min\n",
      "1 min\n",
      "1 min\n",
      "1 min\n",
      "1 min\n",
      "1 min\n",
      "1 min\n",
      "1 min\n",
      "1 min\n",
      "1 min\n",
      "1 min\n",
      "3 min\n",
      "1 min\n",
      "13 min\n",
      "1 min\n",
      "1 min\n",
      "1 min\n",
      "6 min\n",
      "1 min\n",
      "2 min\n",
      "1 min\n",
      "1 min\n",
      "2 min\n",
      "1 min\n",
      "3 min\n",
      "1 min\n",
      "5 min\n",
      "1 min\n",
      "3 min\n",
      "1 min\n",
      "1 min\n",
      "1 min\n",
      "1 min\n",
      "4 min\n",
      "1 min\n",
      "1 min\n",
      "2 min\n",
      "1 min\n",
      "2 min\n",
      "2 min\n",
      "2 min\n",
      "1 min\n",
      "1 min\n",
      "2 min\n",
      "2 min\n",
      "1 min\n",
      "1 min\n",
      "1 min\n",
      "6 min\n",
      "1 min\n",
      "6 min\n",
      "1 min\n",
      "2 min\n",
      "40 min\n",
      "1 min\n",
      "1 min\n",
      "2 min\n",
      "2 min\n",
      "2 min\n",
      "1 min\n",
      "1 min\n",
      "4 min\n",
      "5 min\n",
      "2 min\n",
      "5 min\n",
      "3 min\n",
      "2 min\n",
      "1 min\n",
      "3 min\n",
      "6 min\n",
      "11 min\n",
      "3 min\n",
      "6 min\n",
      "9 min\n",
      "6 min\n",
      "3 min\n",
      "4 min\n",
      "2 min\n",
      "10 min\n",
      "4 min\n",
      "2 min\n",
      "3 min\n",
      "2 min\n",
      "4 min\n",
      "13 min\n",
      "8 min\n",
      "1 min\n",
      "1 min\n",
      "1 min\n",
      "1 min\n",
      "2 min\n",
      "11 min\n",
      "4 min\n",
      "15 min\n",
      "21 min\n",
      "6 min\n",
      "4 min\n",
      "2 min\n",
      "3 min\n",
      "2 min\n",
      "15 min\n",
      "1 min\n",
      "4 min\n",
      "16 min\n",
      "1 min\n",
      "13 min\n",
      "10 min\n",
      "4 min\n",
      "3 min\n",
      "5 min\n",
      "12 min\n",
      "14 min\n",
      "1 min\n",
      "6 min\n",
      "12 min\n",
      "5 min\n",
      "7 min\n",
      "24 min\n",
      "100 min\n",
      "2 min\n",
      "10 min\n",
      "4 min\n",
      "6 min\n",
      "8 min\n",
      "8 min\n",
      "14 min\n",
      "12 min\n",
      "6 min\n",
      "7 min\n",
      "15 min\n",
      "3 min\n",
      "4 min\n",
      "6 min\n",
      "4 min\n",
      "6 min\n",
      "7 min\n",
      "15 min\n",
      "7 min\n",
      "3 min\n",
      "5 min\n",
      "3 min\n",
      "7 min\n",
      "15 min\n",
      "3 min\n",
      "13 min\n",
      "9 min\n",
      "5 min\n",
      "17 min\n",
      "3 min\n",
      "14 min\n",
      "7 min\n",
      "70 min\n",
      "10 min\n",
      "13 min\n",
      "3 min\n",
      "15 min\n",
      "8 min\n",
      "6 min\n",
      "10 min\n",
      "90 min\n",
      "9 min\n",
      "7 min\n",
      "10 min\n",
      "10 min\n",
      "6 min\n",
      "9 min\n",
      "20 min\n",
      "6 min\n",
      "20 min\n",
      "6 min\n",
      "12 min\n",
      "17 min\n",
      "14 min\n",
      "15 min\n",
      "7 min\n",
      "12 min\n",
      "12 min\n",
      "12 min\n",
      "9 min\n",
      "9 min\n",
      "10 min\n",
      "5 min\n",
      "12 min\n",
      "16 min\n",
      "12 min\n",
      "10 min\n",
      "2 min\n",
      "10 min\n",
      "11 min\n",
      "17 min\n",
      "6 min\n",
      "11 min\n",
      "25 min\n",
      "9 min\n",
      "14 min\n",
      "10 min\n",
      "12 min\n",
      "10 min\n",
      "15 min\n",
      "15 min\n",
      "120 min\n",
      "2 min\n",
      "14 min\n",
      "10 min\n",
      "15 min\n",
      "9 min\n",
      "8 min\n",
      "14 min\n",
      "17 min\n",
      "9 min\n",
      "15 min\n",
      "15 min\n",
      "15 min\n",
      "6 min\n",
      "36 min\n",
      "13 min\n",
      "15 min\n",
      "12 min\n",
      "13 min\n",
      "17 min\n",
      "9 min\n",
      "14 min\n",
      "13 min\n",
      "18 min\n",
      "9 min\n",
      "10 min\n",
      "7 min\n",
      "11 min\n",
      "8 min\n",
      "11 min\n",
      "10 min\n",
      "13 min\n",
      "16 min\n",
      "14 min\n",
      "8 min\n",
      "17 min\n",
      "14 min\n",
      "8 min\n",
      "10 min\n",
      "4 min\n",
      "11 min\n",
      "7 min\n",
      "8 min\n",
      "11 min\n",
      "11 min\n",
      "6 min\n",
      "17 min\n",
      "7 min\n",
      "13 min\n",
      "17 min\n",
      "13 min\n",
      "8 min\n",
      "10 min\n",
      "9 min\n",
      "11 min\n",
      "13 min\n",
      "20 min\n",
      "4 min\n",
      "11 min\n",
      "8 min\n",
      "11 min\n",
      "11 min\n",
      "11 min\n",
      "11 min\n",
      "10 min\n",
      "11 min\n",
      "24 min\n",
      "11 min\n",
      "4 min\n",
      "6 min\n",
      "10 min\n",
      "11 min\n",
      "11 min\n",
      "12 min\n",
      "9 min\n",
      "14 min\n",
      "14 min\n",
      "10 min\n",
      "16 min\n",
      "10 min\n",
      "13 min\n",
      "8 min\n",
      "11 min\n",
      "7 min\n",
      "10 min\n",
      "10 min\n",
      "13 min\n",
      "7 min\n",
      "7 min\n",
      "7 min\n",
      "30 min\n",
      "6 min\n",
      "11 min\n",
      "5 min\n",
      "11 min\n",
      "5 min\n",
      "11 min\n",
      "11 min\n",
      "4 min\n",
      "8 min\n",
      "6 min\n",
      "6 min\n",
      "15 min\n",
      "5 min\n",
      "14 min\n",
      "19 min\n",
      "3 min\n",
      "6 min\n",
      "10 min\n",
      "10 min\n",
      "5 min\n",
      "11 min\n",
      "3 min\n",
      "6 min\n",
      "6 min\n",
      "11 min\n",
      "16 min\n",
      "4 min\n",
      "10 min\n",
      "11 min\n",
      "5 min\n",
      "11 min\n",
      "4 min\n",
      "11 min\n",
      "7 min\n",
      "6 min\n",
      "5 min\n",
      "11 min\n",
      "5 min\n",
      "6 min\n",
      "4 min\n",
      "5 min\n",
      "16 min\n",
      "8 min\n",
      "11 min\n",
      "11 min\n",
      "11 min\n",
      "2 min\n",
      "11 min\n",
      "8 min\n",
      "5 min\n",
      "5 min\n",
      "6 min\n",
      "7 min\n",
      "9 min\n",
      "20 min\n",
      "5 min\n",
      "11 min\n",
      "10 min\n",
      "3 min\n",
      "6 min\n",
      "12 min\n",
      "7 min\n",
      "44 min\n",
      "20 min\n",
      "6 min\n",
      "11 min\n",
      "11 min\n",
      "10 min\n",
      "4 min\n",
      "5 min\n",
      "11 min\n",
      "2 min\n",
      "8 min\n",
      "10 min\n",
      "2 min\n",
      "3 min\n",
      "14 min\n",
      "3 min\n",
      "10 min\n",
      "11 min\n",
      "12 min\n",
      "7 min\n"
     ]
    }
   ],
   "source": [
    "list_runtime = list()\n",
    "for row in df_runtime:\n",
    "    print(row)\n",
    "    time = row.split(' ')\n",
    "    list_runtime.append(time[0])"
   ]
  },
  {
   "cell_type": "code",
   "execution_count": 10,
   "id": "295da910",
   "metadata": {},
   "outputs": [],
   "source": [
    "df_runtime = pd.DataFrame(list_runtime, columns = ['runtime'])\n",
    "df_runtime.to_csv('runtime_cleaned.csv')"
   ]
  },
  {
   "cell_type": "code",
   "execution_count": 11,
   "id": "0e53cf4c",
   "metadata": {
    "scrolled": true
   },
   "outputs": [
    {
     "data": {
      "text/plain": [
       "449"
      ]
     },
     "execution_count": 11,
     "metadata": {},
     "output_type": "execute_result"
    }
   ],
   "source": [
    "df_runtime['runtime'].count()"
   ]
  },
  {
   "cell_type": "code",
   "execution_count": 12,
   "id": "decef138",
   "metadata": {},
   "outputs": [],
   "source": [
    "for index, value in enumerate(list_runtime):\n",
    "    try:\n",
    "        list_runtime[index] = int(value)\n",
    "    except:\n",
    "        list_runtime.pop(index)"
   ]
  },
  {
   "cell_type": "code",
   "execution_count": 13,
   "id": "80ebb5bf",
   "metadata": {},
   "outputs": [
    {
     "name": "stdout",
     "output_type": "stream",
     "text": [
      "[1, 5, 4, 12, 1, 1, 1, 1, 40, 1, 1, 1, 1, 1, 2, 1, 1, 1, 1, 1, 1, 1, 1, 1, 1, 1, 1, 1, 1, 1, 1, 1, '1', 1, 1, 1, 1, 1, 1, 1, 1, 1, 1, 3, 1, 1, 1, 1, 1, 1, '1', 1, 1, 1, 1, 2, 1, 2, 1, 1, 20, 1, 2, 1, 1, 1, 1, 1, 1, 1, 1, 1, 1, 1, 1, 1, 1, 1, 1, 1, 1, 1, 1, 1, 1, 3, 1, 13, 1, 1, 1, 6, 1, 2, 1, 1, 2, 1, 3, 1, 5, 1, 3, 1, 1, 1, 1, 4, 1, 1, 2, 1, 2, 2, 2, 1, 1, 2, 2, 1, 1, 1, 6, 1, 6, 1, 2, 40, 1, 1, 2, 2, 2, 1, 1, 4, 5, 2, 5, 3, 2, 1, 3, 6, 11, 3, 6, 9, 6, 3, 4, 2, 10, 4, 2, 3, 2, 4, 13, 8, 1, 1, 1, 1, 2, 11, 4, 15, 21, 6, 4, 2, 3, 2, 15, 1, 4, 16, 1, 13, 10, 4, 3, 5, 12, 14, 1, 6, 12, 5, 7, 24, 100, 2, 10, 4, 6, 8, 8, 14, 12, 6, 7, 15, 3, 4, 6, 4, 6, 7, 15, 7, 3, 5, 3, 7, 15, 3, 13, 9, 5, 17, 3, 14, 7, 70, 10, 13, 3, 15, 8, 6, 10, 90, 9, 7, 10, 10, 6, 9, 20, 6, 20, 6, 12, 17, 14, 15, 7, 12, 12, 12, 9, 9, 10, 5, 12, 16, 12, 10, 2, 10, 11, 17, 6, 11, 25, 9, 14, 10, 12, 10, 15, 15, 120, 2, 14, 10, 15, 9, 8, 14, 17, 9, 15, 15, 15, 6, 36, 13, 15, 12, 13, 17, 9, 14, 13, 18, 9, 10, 7, 11, 8, 11, 10, 13, 16, 14, 8, 17, 14, 8, 10, 4, 11, 7, 8, 11, 11, 6, 17, 7, 13, 17, 13, 8, 10, 9, 11, 13, 20, 4, 11, 8, 11, 11, 11, 11, 10, 11, 24, 11, 4, 6, 10, 11, 11, 12, 9, 14, 14, 10, 16, 10, 13, 8, 11, 7, 10, 10, 13, 7, 7, 7, 30, 6, 11, 5, 11, 5, 11, 11, 4, 8, 6, 6, 15, 5, 14, 19, 3, 6, 10, 10, 5, 11, 3, 6, 6, 11, 16, 4, 10, 11, 5, 11, 4, 11, 7, 6, 5, 11, 5, 6, 4, 5, 16, 8, 11, 11, 11, 2, 11, 8, 5, 5, 6, 7, 9, 20, 5, 11, 10, 3, 6, 12, 7, 44, 20, 6, 11, 11, 10, 4, 5, 11, 2, 8, 10, 2, 3, 14, 3, 10, 11, 12, 7]\n"
     ]
    }
   ],
   "source": [
    "print(list_runtime)"
   ]
  },
  {
   "cell_type": "code",
   "execution_count": 14,
   "id": "86308156",
   "metadata": {},
   "outputs": [],
   "source": [
    "df_runtime = pd.DataFrame(list_runtime, columns = ['runtime'])\n",
    "df_runtime.to_csv('runtime_cleaned.csv')"
   ]
  },
  {
   "cell_type": "code",
   "execution_count": 15,
   "id": "9cebfe16",
   "metadata": {},
   "outputs": [],
   "source": [
    "df_genre = df['Genre']"
   ]
  },
  {
   "cell_type": "code",
   "execution_count": 16,
   "id": "7f750fd9",
   "metadata": {},
   "outputs": [],
   "source": [
    "df_genre = df_genre.dropna()"
   ]
  },
  {
   "cell_type": "code",
   "execution_count": 17,
   "id": "3dc8462e",
   "metadata": {},
   "outputs": [
    {
     "data": {
      "text/plain": [
       "0          Documentary, Short\n",
       "1            Animation, Short\n",
       "2    Animation, Comedy, Short\n",
       "3            Animation, Short\n",
       "4               Short, Comedy\n",
       "Name: Genre, dtype: object"
      ]
     },
     "execution_count": 17,
     "metadata": {},
     "output_type": "execute_result"
    }
   ],
   "source": [
    "df_genre.head()"
   ]
  },
  {
   "cell_type": "code",
   "execution_count": 18,
   "id": "3bb72ffc",
   "metadata": {},
   "outputs": [],
   "source": [
    "list_genre = list()\n",
    "\n",
    "for row in df_genre:\n",
    "    genre = row.split(', ')\n",
    "    list_genre.append(genre)"
   ]
  },
  {
   "cell_type": "code",
   "execution_count": 19,
   "id": "13614510",
   "metadata": {},
   "outputs": [
    {
     "name": "stdout",
     "output_type": "stream",
     "text": [
      "[['Documentary', 'Short'], ['Animation', 'Short'], ['Animation', 'Comedy', 'Short'], ['Animation', 'Short'], ['Short', 'Comedy'], ['Short'], ['Short', 'Sport'], ['Documentary', 'Short'], ['Short', 'Romance'], ['Documentary', 'Short'], ['Documentary', 'Short'], ['Documentary', 'Short'], ['Documentary', 'Short'], ['Short', 'Comedy'], ['Animation', 'Short'], ['Documentary', 'Short'], ['Documentary', 'Short'], ['Short'], ['Short', 'Comedy'], ['Documentary', 'Short', 'Sport'], ['Documentary', 'Short'], ['Documentary', 'Short'], ['Documentary', 'Short'], ['Short', 'News'], ['Short', 'News', 'Sport'], ['Documentary', 'Short'], ['Documentary', 'Short'], ['Documentary', 'Short'], ['Documentary', 'Short'], ['Documentary', 'Short'], ['Documentary', 'Short'], ['Short'], ['Documentary', 'Short', 'Comedy'], ['Documentary', 'Short'], ['Short', 'Comedy'], ['Drama', 'Short'], ['Short'], ['Documentary', 'Short', 'Sport'], ['Short'], ['Documentary', 'Short'], ['Documentary', 'Short', 'Comedy'], ['Documentary', 'Short'], ['Documentary', 'Short'], ['Short'], ['Short'], ['Documentary', 'Short'], ['Documentary', 'Short'], ['Short'], ['Short', 'Sport'], ['Documentary', 'Short'], ['Documentary', 'Short'], ['Documentary', 'Short'], ['Documentary', 'Short'], ['Short'], ['Short'], ['Short'], ['Documentary', 'Short'], ['Documentary', 'Short'], ['Short'], ['Documentary', 'Short'], ['Short'], ['Short'], ['Short'], ['Short'], ['Short'], ['Short'], ['Short', 'Fantasy'], ['Documentary', 'Short'], ['Short'], ['Documentary', 'Short'], ['Short', 'Sport'], ['Short'], ['Documentary', 'Short'], ['Documentary', 'Short'], ['Short', 'Horror'], ['Drama', 'Short'], ['Short'], ['Documentary', 'Short'], ['Documentary', 'Short'], ['Documentary', 'Short'], ['Documentary', 'Short'], ['Comedy', 'Short'], ['Short'], ['Short'], ['Short'], ['Documentary', 'Short'], ['Documentary', 'Short'], ['Documentary', 'Short'], ['Documentary', 'Short'], ['Documentary', 'Short'], ['Short', 'Horror'], ['Documentary', 'Short'], ['Documentary', 'Short'], ['Short'], ['Short'], ['Documentary', 'Short'], ['Documentary', 'Short'], ['Documentary', 'Short'], ['Documentary', 'Short'], ['Documentary', 'Short'], ['Documentary', 'Short'], ['Short'], ['Short'], ['Documentary', 'Short'], ['Documentary', 'Short'], ['Short'], ['Documentary', 'Short'], ['Drama', 'Short'], ['Short', 'Fantasy'], ['Short', 'Fantasy'], ['Drama', 'Short'], ['Short', 'Fantasy'], ['Drama', 'Short'], ['Documentary', 'Short'], ['Documentary', 'Short'], ['Short'], ['Documentary', 'Short'], ['Short'], ['Documentary', 'Short'], ['Documentary', 'Short'], ['Short', 'Comedy'], ['Documentary', 'Short'], ['Short'], ['Documentary', 'Short'], ['Short'], ['Short'], ['Short', 'Comedy'], ['Short'], ['Short'], ['Short'], ['Short', 'Comedy', 'Horror'], ['Short', 'Biography'], ['Short'], ['Short', 'Music'], ['Documentary', 'Short'], ['Short', 'Comedy'], ['Short', 'Comedy'], ['Short', 'Comedy', 'Horror'], ['Short'], ['Short'], ['Documentary', 'Short'], ['Short', 'News'], ['Comedy', 'Short'], ['Comedy', 'Short'], ['Short', 'Comedy'], ['Short', 'Comedy'], ['Documentary', 'Short', 'News'], ['Short'], ['Short', 'Comedy'], ['Documentary', 'Short'], ['Short'], ['Short', 'Fantasy', 'Horror'], ['Short', 'Horror'], ['Short', 'News', 'Sport'], ['Short'], ['Short', 'Comedy'], ['Short'], ['Short', 'Comedy'], ['Short', 'Horror'], ['Short', 'Drama'], ['Short', 'Comedy'], ['Documentary', 'Short'], ['Short', 'Comedy'], ['Short', 'Comedy'], ['Short'], ['Documentary', 'Short'], ['Documentary', 'Short'], ['Documentary', 'Short'], ['Short'], ['Comedy', 'Short'], ['Short', 'Comedy'], ['Short', 'Comedy', 'Horror'], ['Short', 'War'], ['Short', 'Comedy'], ['Documentary', 'Short'], ['Short'], ['Short', 'Crime'], ['Short', 'Horror'], ['Short', 'Horror'], ['Short'], ['Short', 'Fantasy'], ['Short', 'Comedy'], ['Short', 'Drama'], ['Western', 'Short'], ['Short'], ['Short', 'War'], ['Short'], ['Short', 'Drama'], ['Short'], ['Short', 'Comedy'], ['Short'], ['Short'], ['Short'], ['Documentary', 'Short'], ['Short', 'Comedy'], ['Short', 'Fantasy'], ['Short'], ['Short'], ['Short'], ['Documentary', 'Short', 'Sport'], ['Short', 'News'], ['Short'], ['Short'], ['Short'], ['Short', 'Comedy', 'Sport'], ['Documentary', 'Short'], ['Documentary', 'Short'], ['Comedy', 'Short'], ['Short', 'Horror'], ['Short'], ['Short', 'Comedy', 'Fantasy'], ['Short'], ['Short'], ['Short', 'War'], ['Short', 'Documentary'], ['Short', 'News'], ['Short'], ['Short', 'Biography', 'Drama'], ['Short', 'Fantasy'], ['Short', 'Romance'], ['Documentary', 'Short'], ['Short', 'Comedy'], ['Short'], ['Short'], ['Short', 'Family', 'Fantasy'], ['Short'], ['Short', 'Drama', 'War'], ['Short'], ['Short', 'Sport'], ['Short', 'Drama', 'Family'], ['Documentary', 'Short'], ['Short', 'Comedy'], ['Short', 'Animation'], ['Short', 'Horror'], ['Short', 'Adventure', 'Fantasy'], ['Short'], ['Short'], ['Short', 'Drama'], ['Short'], ['Short', 'Documentary'], ['Short'], ['Short', 'Fantasy', 'Horror'], ['Short', 'Comedy'], ['Short'], ['Short', 'Comedy', 'Fantasy'], ['Short', 'Fantasy'], ['Short', 'Drama'], ['Short', 'Comedy', 'Romance'], ['Short'], ['Short', 'Documentary'], ['Animation', 'Short'], ['Short', 'Comedy'], ['Short', 'Horror'], ['Short', 'Comedy'], ['Short', 'Comedy'], ['Documentary', 'Short'], ['Short'], ['Short', 'Comedy'], ['Short', 'Comedy'], ['Short', 'Comedy'], ['Short', 'Comedy', 'Horror'], ['Short', 'Comedy'], ['Documentary', 'Short'], ['Short', 'Fantasy', 'Horror'], ['Short', 'Comedy'], ['Documentary', 'Short'], ['Short'], ['Short'], ['Short', 'Documentary'], ['Short'], ['Short'], ['Short', 'Comedy'], ['Short', 'Action', 'Crime'], ['Short', 'Comedy'], ['Short'], ['Short'], ['Short'], ['Short'], ['Short', 'News'], ['Short', 'News'], ['Short', 'News'], ['Short'], ['Short'], ['Short'], ['Short', 'Horror'], ['Comedy', 'Short'], ['Comedy', 'Fantasy', 'Short'], ['Short', 'Comedy'], ['Short'], ['Short'], ['Short'], ['Documentary', 'Short'], ['Short'], ['Short'], ['Short'], ['Documentary', 'Short'], ['Short'], ['Short'], ['Short'], ['Animation', 'Short', 'Comedy'], ['Short', 'Fantasy', 'Horror'], ['Short'], ['Short'], ['Short', 'Family'], ['Short'], ['Short', 'Drama'], ['Comedy', 'Short'], ['Short'], ['Short', 'Comedy'], ['Comedy', 'Short'], ['Short', 'Comedy'], ['Short'], ['Short', 'Comedy'], ['Short'], ['Short'], ['Short'], ['Short'], ['Short'], ['Short', 'Horror'], ['Short'], ['Fantasy', 'Short'], ['Short', 'Documentary'], ['Short'], ['Short'], ['Short'], ['Short'], ['Short'], ['Short'], ['Short'], ['Short'], ['Short'], ['Documentary', 'Short'], ['Short'], ['Short', 'Comedy'], ['Short', 'Biography', 'Drama'], ['Short'], ['Short', 'Sport'], ['Short'], ['Short'], ['Comedy', 'Fantasy', 'Short'], ['Comedy', 'Short', 'Fantasy'], ['Short', 'Comedy'], ['Short'], ['Short'], ['Short'], ['Short', 'Comedy'], ['Documentary', 'Short', 'News'], ['Short'], ['Short', 'Comedy'], ['Short', 'Comedy'], ['Short'], ['Documentary', 'Short'], ['Short', 'Drama', 'History'], ['Documentary', 'Short'], ['Short', 'Action', 'Drama'], ['Short'], ['Short', 'Comedy', 'Fantasy'], ['Short', 'Crime', 'Drama'], ['Short', 'Comedy', 'Fantasy'], ['Short'], ['Short'], ['Short'], ['Short', 'Fantasy', 'Romance'], ['Documentary', 'Short'], ['Documentary', 'Short'], ['Documentary', 'Short'], ['Short'], ['Short', 'Fantasy'], ['Short', 'Documentary'], ['Short', 'Drama', 'Fantasy'], ['Short'], ['Short'], ['Short', 'Drama', 'Horror'], ['Short'], ['Documentary', 'Short'], ['Documentary', 'Short'], ['Short', 'Comedy', 'Fantasy'], ['Short'], ['Documentary', 'Short'], ['Fantasy', 'Short', 'Drama'], ['Short', 'News'], ['Short', 'Documentary'], ['Short', 'Documentary'], ['Documentary', 'Short'], ['Short', 'Comedy'], ['Short', 'Comedy'], ['Short', 'History'], ['Short'], ['Short'], ['Short'], ['Short', 'Comedy'], ['Short', 'Fantasy'], ['Short', 'Comedy'], ['Short', 'Comedy'], ['Short'], ['Short'], ['Short'], ['Short'], ['Short', 'Fantasy'], ['Short', 'Comedy'], ['Short', 'Comedy'], ['Short', 'Comedy'], ['Short'], ['Short'], ['Short', 'Comedy'], ['Short', 'Horror'], ['Documentary', 'Short'], ['Short'], ['Short', 'Comedy'], ['Documentary', 'Short'], ['Short', 'Comedy'], ['Short', 'Comedy', 'Horror'], ['Short', 'Comedy', 'Fantasy'], ['Comedy', 'Short'], ['Short'], ['Short', 'Drama'], ['Short', 'Action', 'Adventure'], ['Short', 'Drama'], ['Short'], ['Short', 'Family', 'Fantasy'], ['Short'], ['Short'], ['Short', 'Fantasy'], ['Short'], ['Documentary', 'Short'], ['Documentary', 'Short'], ['Short'], ['Documentary', 'Short'], ['Short'], ['Short', 'Comedy'], ['Short'], ['Short', 'Comedy'], ['Short'], ['Short', 'Fantasy'], ['Short'], ['Short', 'Comedy'], ['Short', 'Drama', 'Horror'], ['Short'], ['Short', 'Action', 'Adventure'], ['Short', 'Fantasy'], ['Short'], ['Short', 'Drama'], ['Short', 'Adventure', 'Drama'], ['Short'], ['Short'], ['Short', 'Western'], ['Short', 'Action'], ['Short'], ['Short'], ['Short'], ['Short', 'Comedy'], ['Short', 'Comedy', 'Romance'], ['Short'], ['Short'], ['Short', 'Comedy', 'Music'], ['Documentary', 'Short'], ['Short'], ['Short'], ['Short', 'Documentary'], ['Western', 'Short'], ['Short'], ['Short'], ['Documentary', 'Short'], ['Short', 'Comedy'], ['Short', 'Adventure', 'Fantasy'], ['Short'], ['Short'], ['Short'], ['Short', 'Comedy', 'Family'], ['Short'], ['Short', 'Drama'], ['Short', 'Drama'], ['Short'], ['Short'], ['Short', 'Drama'], ['Short'], ['Short', 'Drama'], ['Short', 'Comedy'], ['Short', 'Drama'], ['Short', 'Fantasy'], ['Short'], ['Short', 'Comedy'], ['Short', 'Comedy'], ['Short'], ['Short'], ['Drama', 'Short'], ['Short', 'Western'], ['Short', 'Drama', 'Fantasy'], ['Short'], ['Short'], ['Short', 'News'], ['Comedy', 'Short'], ['Short'], ['Short'], ['Short', 'Fantasy'], ['Short', 'Action'], ['Short', 'Crime'], ['Short', 'Crime', 'Drama'], ['Short', 'Action', 'Adventure'], ['Short'], ['Short', 'Crime', 'Drama'], ['Short', 'Documentary'], ['Documentary', 'Short'], ['Short', 'Comedy'], ['Short', 'Drama'], ['Short', 'News'], ['Documentary', 'Short'], ['Short', 'Comedy'], ['Short'], ['Short', 'Drama'], ['Documentary', 'Short', 'News', 'War'], ['Documentary', 'Short'], ['Short', 'Comedy'], ['Short', 'Comedy'], ['Animation', 'Short', 'Fantasy'], ['Short'], ['Short'], ['Crime', 'Drama', 'Short'], ['Short', 'Biography', 'Crime'], ['Short', 'Action', 'Crime'], ['Short', 'Action', 'Drama'], ['Documentary', 'Short'], ['Short', 'Documentary'], ['Short', 'Western'], ['Documentary', 'Short'], ['Documentary', 'Short'], ['Adventure', 'Short', 'Romance'], ['Short', 'Comedy'], ['Short', 'Comedy'], ['Short', 'Drama', 'War'], ['Documentary', 'Short'], ['Comedy', 'Short'], ['Fantasy', 'Short', 'Comedy'], ['Short', 'Comedy'], ['Short'], ['Documentary', 'Short'], ['Documentary', 'Short'], ['Short'], ['Short'], ['Short'], ['Short', 'Comedy'], ['Documentary', 'Short'], ['Short'], ['Comedy', 'Short'], ['Short', 'Comedy', 'Fantasy'], ['Documentary', 'Short'], ['Short'], ['Short'], ['Short', 'News'], ['Short'], ['Animation', 'Short'], ['Short', 'Comedy', 'Fantasy'], ['Animation', 'Short', 'Comedy', 'Family'], ['Short'], ['Short', 'Romance'], ['Short', 'Drama', 'Romance'], ['Documentary', 'Short'], ['Short'], ['Short'], ['Short', 'Western'], ['Short'], ['Short'], ['Drama', 'Short'], ['Animation', 'Short', 'Family'], ['Short'], ['Short', 'Fantasy', 'Horror'], ['Short'], ['Short', 'Drama'], ['Documentary', 'Short'], ['Documentary', 'Short', 'History'], ['Short'], ['Short'], ['Action', 'Adventure', 'Biography'], ['Short', 'Adventure', 'Fantasy'], ['Short', 'Drama', 'Fantasy'], ['Short', 'Drama'], ['Short', 'Comedy', 'Family'], ['Western', 'Short'], ['Documentary', 'Short'], ['Short'], ['Short', 'Drama'], ['Short', 'Drama', 'Romance'], ['Short', 'Crime', 'Drama'], ['Short', 'Documentary'], ['Drama', 'Short'], ['Short'], ['Short'], ['Documentary', 'Short'], ['Short', 'Comedy'], ['Drama'], ['Short'], ['Documentary', 'Short'], ['Short', 'Drama'], ['Short', 'Drama'], ['Short'], ['Short'], ['Short', 'Drama'], ['Short', 'Drama'], ['Short', 'Drama'], ['Drama', 'Short', 'Adventure'], ['Animation', 'Short'], ['Short', 'Drama'], ['Short', 'Crime', 'Drama'], ['Short', 'Comedy'], ['Short'], ['Short', 'Comedy'], ['Short', 'Drama', 'Music', 'Romance'], ['Short', 'Drama', 'Romance'], ['Adventure', 'Short'], ['Documentary', 'Short'], ['Short', 'Drama'], ['Short', 'Fantasy', 'Horror'], ['Drama'], ['Documentary', 'Short'], ['Short', 'Drama'], ['Comedy', 'Short'], ['Documentary', 'Short'], ['Short', 'Drama'], ['Short', 'Comedy', 'Fantasy'], ['Short'], ['Short', 'Comedy'], ['Short'], ['Documentary', 'Short'], ['Short', 'Comedy'], ['Short', 'Drama'], ['Action', 'Short'], ['Drama', 'Short'], ['Drama'], ['Short', 'Drama'], ['Short'], ['Short', 'Drama'], ['Short', 'Drama', 'History', 'Romance'], ['Short'], ['Short', 'History', 'Drama'], ['Short', 'Drama'], ['Short', 'Comedy'], ['Drama', 'Short'], ['Short', 'Comedy'], ['Short', 'Action'], ['Short', 'Drama', 'History', 'War'], ['Short', 'Drama'], ['Short', 'Crime'], ['Short'], ['Short', 'Comedy'], ['Short', 'Drama'], ['Short', 'Comedy'], ['Short', 'Drama', 'History'], ['Short', 'Comedy', 'Drama'], ['Short', 'Comedy'], ['Short', 'Action'], ['Short'], ['Short'], ['Short', 'Documentary'], ['Animation', 'Short'], ['Short', 'Drama'], ['Short', 'Comedy'], ['Short'], ['Short', 'Drama', 'Romance'], ['Short', 'Comedy'], ['Short'], ['Short', 'Drama'], ['Documentary', 'Short', 'Sport'], ['Documentary', 'Short', 'Sport'], ['Action', 'Short', 'Drama'], ['Short', 'Comedy', 'Fantasy'], ['Short'], ['Short', 'Drama'], ['Short', 'Drama'], ['Short'], ['Short', 'Drama'], ['Drama'], ['Short', 'Drama'], ['Drama', 'Short'], ['Documentary', 'Short'], ['Fantasy', 'Adventure'], ['Short', 'Drama'], ['Short', 'Drama'], ['Animation', 'Short', 'Fantasy'], ['Short', 'Crime'], ['Short', 'Comedy'], ['Short', 'Drama', 'Romance'], ['Documentary', 'Short'], ['Short', 'Drama'], ['Short', 'Drama'], ['Short', 'Crime'], ['Short', 'Drama'], ['Short'], ['Short', 'History'], ['Documentary', 'Short'], ['Short', 'Action', 'Western'], ['Short', 'Action'], ['Short'], ['Short', 'Action', 'War'], ['Short', 'Drama', 'Romance'], ['Short', 'Drama'], ['Drama', 'Short'], ['Short', 'Comedy'], ['Short', 'Comedy'], ['Animation', 'Short', 'Comedy'], ['Short', 'Documentary'], ['Short', 'Drama', 'Romance'], ['Short', 'Action'], ['Short', 'Comedy'], ['Short', 'Drama', 'History'], ['Short', 'Drama', 'History'], ['Short', 'Western'], ['Short', 'Comedy'], ['Short', 'Drama'], ['Short', 'Drama'], ['Short', 'Western'], ['Short', 'Comedy', 'Western'], ['Short', 'Drama'], ['Documentary', 'Short'], ['Short', 'Documentary'], ['Short', 'Drama'], ['Short', 'Crime', 'Drama'], ['Short', 'Drama'], ['Short'], ['Drama', 'Short'], ['Short', 'Comedy'], ['Short', 'Documentary'], ['Short', 'Comedy'], ['Short', 'Crime', 'Drama'], ['Documentary', 'Short'], ['Short', 'Comedy'], ['Short', 'Comedy'], ['Short'], ['Drama', 'Short'], ['Short', 'Drama', 'Romance'], ['Short', 'Drama', 'Music', 'Romance'], ['Short', 'Western'], ['Short', 'Drama'], ['Short'], ['Drama'], ['Short', 'Action'], ['Short', 'Action', 'Drama'], ['Short', 'Drama'], ['Short', 'Comedy'], ['Short'], ['Short', 'Drama'], ['Drama', 'Short'], ['Action', 'Short'], ['Western', 'Short', 'Action'], ['Action', 'Short'], ['Short', 'Drama'], ['Drama', 'Short'], ['Drama', 'Short'], ['Short', 'Comedy'], ['Short', 'Drama', 'Romance'], ['Short'], ['Comedy', 'Short'], ['Short', 'Fantasy', 'Sci-Fi'], ['Short', 'Mystery'], ['Short', 'Comedy'], ['Short', 'Drama', 'Mystery'], ['Documentary', 'Short', 'History'], ['Comedy', 'Short'], ['Short'], ['Drama', 'Short'], ['Short', 'Western'], ['Short'], ['Drama', 'Short'], ['Short'], ['Short'], ['Short', 'Comedy', 'Romance'], ['Action', 'Short'], ['Drama', 'Short'], ['Short'], ['Short', 'Drama'], ['Short', 'Comedy'], ['Short', 'Drama'], ['Short', 'Comedy'], ['Short', 'Comedy'], ['Action', 'Short', 'Romance'], ['Short'], ['Short', 'Adventure', 'Drama'], ['Documentary', 'Short'], ['Short'], ['Short'], ['Drama', 'Short'], ['Short', 'Drama'], ['Action', 'Short'], ['Short', 'Comedy'], ['Action', 'Short'], ['Short', 'Fantasy', 'Sci-Fi'], ['Short'], ['Short', 'Drama'], ['Drama'], ['Short', 'Drama'], ['Short', 'Drama'], ['Short'], ['Short', 'Drama'], ['Short', 'Drama'], ['Short', 'Comedy'], ['Short', 'Comedy', 'Drama'], ['Short', 'Drama'], ['Short', 'Comedy'], ['Short', 'Drama'], ['Documentary', 'Short'], ['Short', 'Comedy'], ['Short', 'Western'], ['Short', 'Drama'], ['Short', 'Romance'], ['Short', 'Western'], ['Short', 'Drama'], ['Short', 'Drama'], ['Short', 'Drama'], ['Short'], ['Short', 'Drama'], ['Short', 'Drama'], ['Short', 'Crime', 'Drama'], ['Short'], ['Documentary', 'Short'], ['Drama', 'Short'], ['Short'], ['Short', 'Drama'], ['Short', 'Drama'], ['Short', 'Drama'], ['Short', 'Comedy'], ['Short', 'Western'], ['Short', 'Drama'], ['Short', 'Drama'], ['Short', 'Drama'], ['Short', 'Crime', 'Drama'], ['Short', 'Crime', 'Drama'], ['Short', 'Drama'], ['Short', 'Drama'], ['Short'], ['Short'], ['Short', 'Crime'], ['Short', 'Drama'], ['Short', 'Comedy'], ['Short', 'Comedy'], ['Short', 'Drama'], ['Short', 'Drama', 'History'], ['Short', 'Drama'], ['Short'], ['Short'], ['Short', 'Comedy'], ['Short', 'Drama'], ['Drama', 'Short'], ['Short', 'Drama'], ['Short', 'Biography', 'Drama'], ['Short'], ['Short', 'Documentary'], ['Short', 'Comedy'], ['Short', 'Drama'], ['Short', 'Drama'], ['Short', 'Drama'], ['Short', 'Comedy'], ['Short', 'Comedy'], ['Short', 'Crime', 'Drama'], ['Short', 'Crime', 'Drama'], ['Short', 'Drama'], ['Short', 'Drama'], ['Short', 'Drama'], ['Short', 'Drama'], ['Short', 'Comedy'], ['Short', 'Drama'], ['Comedy', 'Short'], ['Comedy', 'Short'], ['Comedy', 'Short'], ['Short', 'Drama'], ['Short'], ['Short', 'Drama'], ['Short', 'Mystery'], ['Short', 'Drama'], ['Short'], ['Drama'], ['Drama', 'Short'], ['Short', 'Drama'], ['Short', 'Western'], ['Short', 'Western'], ['Short', 'Comedy', 'Fantasy'], ['Comedy', 'Short'], ['Short', 'Western'], ['Short', 'Drama'], ['Drama', 'Short', 'War'], ['Short', 'Drama', 'Mystery'], ['Drama', 'Short'], ['Short', 'Drama'], ['Short', 'Western'], ['Short'], ['Short', 'Comedy'], ['Comedy', 'Short'], ['Short', 'Crime'], ['Short', 'Drama', 'Western'], ['Short'], ['Short', 'Drama'], ['Short', 'Drama'], ['Short', 'Drama', 'War'], ['Short', 'Drama'], ['Short', 'Drama'], ['Short', 'Drama'], ['Western', 'Short'], ['Short', 'Western'], ['Short'], ['Short', 'Comedy'], ['Short', 'Comedy'], ['Short', 'Comedy'], ['Short', 'Drama'], ['Short', 'Drama'], ['Short', 'Comedy'], ['Short', 'Comedy'], ['Short', 'Comedy'], ['Animation', 'Short'], ['Short', 'Western'], ['Short', 'Drama', 'History'], ['Short'], ['Drama', 'Short'], ['Short', 'Comedy'], ['Short'], ['Short'], ['Short', 'Drama'], ['Short', 'Comedy', 'Drama'], ['Short', 'Adventure'], ['Short', 'Drama'], ['Short', 'Drama'], ['Short', 'Comedy'], ['Short', 'Drama'], ['Short', 'Drama'], ['Drama'], ['Short', 'Crime', 'Drama'], ['Short', 'Comedy'], ['Short', 'Drama'], ['Short', 'Drama'], ['Short'], ['Short'], ['Short'], ['Short', 'Drama'], ['Short', 'Drama'], ['Short', 'Drama'], ['Short', 'Drama'], ['Short'], ['Short', 'Comedy'], ['Short', 'Drama'], ['Short', 'Comedy'], ['Short', 'Drama'], ['Western', 'Short'], ['Short', 'Drama'], ['Short'], ['Short', 'Western'], ['Short'], ['Comedy', 'Short'], ['Drama', 'Fantasy', 'Romance', 'Short'], ['Short'], ['Short', 'Comedy'], ['Short', 'Drama', 'History'], ['Short', 'Biography', 'Drama'], ['Short', 'Drama', 'Romance'], ['Short', 'Drama'], ['Short', 'Drama'], ['Short', 'Comedy'], ['Short', 'Comedy'], ['Comedy', 'Short'], ['Short'], ['Short'], ['Short', 'Drama'], ['Short', 'Drama'], ['Short', 'Drama'], ['Short', 'Comedy'], ['Short'], ['Short', 'Drama'], ['Short', 'Drama'], ['Short', 'Comedy'], ['Short', 'Comedy'], ['Short', 'Comedy'], ['Drama', 'Short'], ['Short', 'Action', 'Drama'], ['Short', 'Comedy'], ['Short', 'Drama'], ['Short', 'Drama'], ['Short', 'Drama'], ['Short', 'Drama'], ['Short', 'Drama', 'Romance'], ['Short', 'Drama'], ['Short', 'Comedy']]\n"
     ]
    }
   ],
   "source": [
    "print(list_genre)"
   ]
  },
  {
   "cell_type": "code",
   "execution_count": 20,
   "id": "0e6a4046",
   "metadata": {},
   "outputs": [],
   "source": [
    "flat_list_genre = [item for sublist in list_genre for item in sublist]"
   ]
  },
  {
   "cell_type": "code",
   "execution_count": 21,
   "id": "501ce82a",
   "metadata": {},
   "outputs": [
    {
     "name": "stdout",
     "output_type": "stream",
     "text": [
      "['Documentary', 'Short', 'Animation', 'Short', 'Animation', 'Comedy', 'Short', 'Animation', 'Short', 'Short', 'Comedy', 'Short', 'Short', 'Sport', 'Documentary', 'Short', 'Short', 'Romance', 'Documentary', 'Short', 'Documentary', 'Short', 'Documentary', 'Short', 'Documentary', 'Short', 'Short', 'Comedy', 'Animation', 'Short', 'Documentary', 'Short', 'Documentary', 'Short', 'Short', 'Short', 'Comedy', 'Documentary', 'Short', 'Sport', 'Documentary', 'Short', 'Documentary', 'Short', 'Documentary', 'Short', 'Short', 'News', 'Short', 'News', 'Sport', 'Documentary', 'Short', 'Documentary', 'Short', 'Documentary', 'Short', 'Documentary', 'Short', 'Documentary', 'Short', 'Documentary', 'Short', 'Short', 'Documentary', 'Short', 'Comedy', 'Documentary', 'Short', 'Short', 'Comedy', 'Drama', 'Short', 'Short', 'Documentary', 'Short', 'Sport', 'Short', 'Documentary', 'Short', 'Documentary', 'Short', 'Comedy', 'Documentary', 'Short', 'Documentary', 'Short', 'Short', 'Short', 'Documentary', 'Short', 'Documentary', 'Short', 'Short', 'Short', 'Sport', 'Documentary', 'Short', 'Documentary', 'Short', 'Documentary', 'Short', 'Documentary', 'Short', 'Short', 'Short', 'Short', 'Documentary', 'Short', 'Documentary', 'Short', 'Short', 'Documentary', 'Short', 'Short', 'Short', 'Short', 'Short', 'Short', 'Short', 'Short', 'Fantasy', 'Documentary', 'Short', 'Short', 'Documentary', 'Short', 'Short', 'Sport', 'Short', 'Documentary', 'Short', 'Documentary', 'Short', 'Short', 'Horror', 'Drama', 'Short', 'Short', 'Documentary', 'Short', 'Documentary', 'Short', 'Documentary', 'Short', 'Documentary', 'Short', 'Comedy', 'Short', 'Short', 'Short', 'Short', 'Documentary', 'Short', 'Documentary', 'Short', 'Documentary', 'Short', 'Documentary', 'Short', 'Documentary', 'Short', 'Short', 'Horror', 'Documentary', 'Short', 'Documentary', 'Short', 'Short', 'Short', 'Documentary', 'Short', 'Documentary', 'Short', 'Documentary', 'Short', 'Documentary', 'Short', 'Documentary', 'Short', 'Documentary', 'Short', 'Short', 'Short', 'Documentary', 'Short', 'Documentary', 'Short', 'Short', 'Documentary', 'Short', 'Drama', 'Short', 'Short', 'Fantasy', 'Short', 'Fantasy', 'Drama', 'Short', 'Short', 'Fantasy', 'Drama', 'Short', 'Documentary', 'Short', 'Documentary', 'Short', 'Short', 'Documentary', 'Short', 'Short', 'Documentary', 'Short', 'Documentary', 'Short', 'Short', 'Comedy', 'Documentary', 'Short', 'Short', 'Documentary', 'Short', 'Short', 'Short', 'Short', 'Comedy', 'Short', 'Short', 'Short', 'Short', 'Comedy', 'Horror', 'Short', 'Biography', 'Short', 'Short', 'Music', 'Documentary', 'Short', 'Short', 'Comedy', 'Short', 'Comedy', 'Short', 'Comedy', 'Horror', 'Short', 'Short', 'Documentary', 'Short', 'Short', 'News', 'Comedy', 'Short', 'Comedy', 'Short', 'Short', 'Comedy', 'Short', 'Comedy', 'Documentary', 'Short', 'News', 'Short', 'Short', 'Comedy', 'Documentary', 'Short', 'Short', 'Short', 'Fantasy', 'Horror', 'Short', 'Horror', 'Short', 'News', 'Sport', 'Short', 'Short', 'Comedy', 'Short', 'Short', 'Comedy', 'Short', 'Horror', 'Short', 'Drama', 'Short', 'Comedy', 'Documentary', 'Short', 'Short', 'Comedy', 'Short', 'Comedy', 'Short', 'Documentary', 'Short', 'Documentary', 'Short', 'Documentary', 'Short', 'Short', 'Comedy', 'Short', 'Short', 'Comedy', 'Short', 'Comedy', 'Horror', 'Short', 'War', 'Short', 'Comedy', 'Documentary', 'Short', 'Short', 'Short', 'Crime', 'Short', 'Horror', 'Short', 'Horror', 'Short', 'Short', 'Fantasy', 'Short', 'Comedy', 'Short', 'Drama', 'Western', 'Short', 'Short', 'Short', 'War', 'Short', 'Short', 'Drama', 'Short', 'Short', 'Comedy', 'Short', 'Short', 'Short', 'Documentary', 'Short', 'Short', 'Comedy', 'Short', 'Fantasy', 'Short', 'Short', 'Short', 'Documentary', 'Short', 'Sport', 'Short', 'News', 'Short', 'Short', 'Short', 'Short', 'Comedy', 'Sport', 'Documentary', 'Short', 'Documentary', 'Short', 'Comedy', 'Short', 'Short', 'Horror', 'Short', 'Short', 'Comedy', 'Fantasy', 'Short', 'Short', 'Short', 'War', 'Short', 'Documentary', 'Short', 'News', 'Short', 'Short', 'Biography', 'Drama', 'Short', 'Fantasy', 'Short', 'Romance', 'Documentary', 'Short', 'Short', 'Comedy', 'Short', 'Short', 'Short', 'Family', 'Fantasy', 'Short', 'Short', 'Drama', 'War', 'Short', 'Short', 'Sport', 'Short', 'Drama', 'Family', 'Documentary', 'Short', 'Short', 'Comedy', 'Short', 'Animation', 'Short', 'Horror', 'Short', 'Adventure', 'Fantasy', 'Short', 'Short', 'Short', 'Drama', 'Short', 'Short', 'Documentary', 'Short', 'Short', 'Fantasy', 'Horror', 'Short', 'Comedy', 'Short', 'Short', 'Comedy', 'Fantasy', 'Short', 'Fantasy', 'Short', 'Drama', 'Short', 'Comedy', 'Romance', 'Short', 'Short', 'Documentary', 'Animation', 'Short', 'Short', 'Comedy', 'Short', 'Horror', 'Short', 'Comedy', 'Short', 'Comedy', 'Documentary', 'Short', 'Short', 'Short', 'Comedy', 'Short', 'Comedy', 'Short', 'Comedy', 'Short', 'Comedy', 'Horror', 'Short', 'Comedy', 'Documentary', 'Short', 'Short', 'Fantasy', 'Horror', 'Short', 'Comedy', 'Documentary', 'Short', 'Short', 'Short', 'Short', 'Documentary', 'Short', 'Short', 'Short', 'Comedy', 'Short', 'Action', 'Crime', 'Short', 'Comedy', 'Short', 'Short', 'Short', 'Short', 'Short', 'News', 'Short', 'News', 'Short', 'News', 'Short', 'Short', 'Short', 'Short', 'Horror', 'Comedy', 'Short', 'Comedy', 'Fantasy', 'Short', 'Short', 'Comedy', 'Short', 'Short', 'Short', 'Documentary', 'Short', 'Short', 'Short', 'Short', 'Documentary', 'Short', 'Short', 'Short', 'Short', 'Animation', 'Short', 'Comedy', 'Short', 'Fantasy', 'Horror', 'Short', 'Short', 'Short', 'Family', 'Short', 'Short', 'Drama', 'Comedy', 'Short', 'Short', 'Short', 'Comedy', 'Comedy', 'Short', 'Short', 'Comedy', 'Short', 'Short', 'Comedy', 'Short', 'Short', 'Short', 'Short', 'Short', 'Short', 'Horror', 'Short', 'Fantasy', 'Short', 'Short', 'Documentary', 'Short', 'Short', 'Short', 'Short', 'Short', 'Short', 'Short', 'Short', 'Short', 'Documentary', 'Short', 'Short', 'Short', 'Comedy', 'Short', 'Biography', 'Drama', 'Short', 'Short', 'Sport', 'Short', 'Short', 'Comedy', 'Fantasy', 'Short', 'Comedy', 'Short', 'Fantasy', 'Short', 'Comedy', 'Short', 'Short', 'Short', 'Short', 'Comedy', 'Documentary', 'Short', 'News', 'Short', 'Short', 'Comedy', 'Short', 'Comedy', 'Short', 'Documentary', 'Short', 'Short', 'Drama', 'History', 'Documentary', 'Short', 'Short', 'Action', 'Drama', 'Short', 'Short', 'Comedy', 'Fantasy', 'Short', 'Crime', 'Drama', 'Short', 'Comedy', 'Fantasy', 'Short', 'Short', 'Short', 'Short', 'Fantasy', 'Romance', 'Documentary', 'Short', 'Documentary', 'Short', 'Documentary', 'Short', 'Short', 'Short', 'Fantasy', 'Short', 'Documentary', 'Short', 'Drama', 'Fantasy', 'Short', 'Short', 'Short', 'Drama', 'Horror', 'Short', 'Documentary', 'Short', 'Documentary', 'Short', 'Short', 'Comedy', 'Fantasy', 'Short', 'Documentary', 'Short', 'Fantasy', 'Short', 'Drama', 'Short', 'News', 'Short', 'Documentary', 'Short', 'Documentary', 'Documentary', 'Short', 'Short', 'Comedy', 'Short', 'Comedy', 'Short', 'History', 'Short', 'Short', 'Short', 'Short', 'Comedy', 'Short', 'Fantasy', 'Short', 'Comedy', 'Short', 'Comedy', 'Short', 'Short', 'Short', 'Short', 'Short', 'Fantasy', 'Short', 'Comedy', 'Short', 'Comedy', 'Short', 'Comedy', 'Short', 'Short', 'Short', 'Comedy', 'Short', 'Horror', 'Documentary', 'Short', 'Short', 'Short', 'Comedy', 'Documentary', 'Short', 'Short', 'Comedy', 'Short', 'Comedy', 'Horror', 'Short', 'Comedy', 'Fantasy', 'Comedy', 'Short', 'Short', 'Short', 'Drama', 'Short', 'Action', 'Adventure', 'Short', 'Drama', 'Short', 'Short', 'Family', 'Fantasy', 'Short', 'Short', 'Short', 'Fantasy', 'Short', 'Documentary', 'Short', 'Documentary', 'Short', 'Short', 'Documentary', 'Short', 'Short', 'Short', 'Comedy', 'Short', 'Short', 'Comedy', 'Short', 'Short', 'Fantasy', 'Short', 'Short', 'Comedy', 'Short', 'Drama', 'Horror', 'Short', 'Short', 'Action', 'Adventure', 'Short', 'Fantasy', 'Short', 'Short', 'Drama', 'Short', 'Adventure', 'Drama', 'Short', 'Short', 'Short', 'Western', 'Short', 'Action', 'Short', 'Short', 'Short', 'Short', 'Comedy', 'Short', 'Comedy', 'Romance', 'Short', 'Short', 'Short', 'Comedy', 'Music', 'Documentary', 'Short', 'Short', 'Short', 'Short', 'Documentary', 'Western', 'Short', 'Short', 'Short', 'Documentary', 'Short', 'Short', 'Comedy', 'Short', 'Adventure', 'Fantasy', 'Short', 'Short', 'Short', 'Short', 'Comedy', 'Family', 'Short', 'Short', 'Drama', 'Short', 'Drama', 'Short', 'Short', 'Short', 'Drama', 'Short', 'Short', 'Drama', 'Short', 'Comedy', 'Short', 'Drama', 'Short', 'Fantasy', 'Short', 'Short', 'Comedy', 'Short', 'Comedy', 'Short', 'Short', 'Drama', 'Short', 'Short', 'Western', 'Short', 'Drama', 'Fantasy', 'Short', 'Short', 'Short', 'News', 'Comedy', 'Short', 'Short', 'Short', 'Short', 'Fantasy', 'Short', 'Action', 'Short', 'Crime', 'Short', 'Crime', 'Drama', 'Short', 'Action', 'Adventure', 'Short', 'Short', 'Crime', 'Drama', 'Short', 'Documentary', 'Documentary', 'Short', 'Short', 'Comedy', 'Short', 'Drama', 'Short', 'News', 'Documentary', 'Short', 'Short', 'Comedy', 'Short', 'Short', 'Drama', 'Documentary', 'Short', 'News', 'War', 'Documentary', 'Short', 'Short', 'Comedy', 'Short', 'Comedy', 'Animation', 'Short', 'Fantasy', 'Short', 'Short', 'Crime', 'Drama', 'Short', 'Short', 'Biography', 'Crime', 'Short', 'Action', 'Crime', 'Short', 'Action', 'Drama', 'Documentary', 'Short', 'Short', 'Documentary', 'Short', 'Western', 'Documentary', 'Short', 'Documentary', 'Short', 'Adventure', 'Short', 'Romance', 'Short', 'Comedy', 'Short', 'Comedy', 'Short', 'Drama', 'War', 'Documentary', 'Short', 'Comedy', 'Short', 'Fantasy', 'Short', 'Comedy', 'Short', 'Comedy', 'Short', 'Documentary', 'Short', 'Documentary', 'Short', 'Short', 'Short', 'Short', 'Short', 'Comedy', 'Documentary', 'Short', 'Short', 'Comedy', 'Short', 'Short', 'Comedy', 'Fantasy', 'Documentary', 'Short', 'Short', 'Short', 'Short', 'News', 'Short', 'Animation', 'Short', 'Short', 'Comedy', 'Fantasy', 'Animation', 'Short', 'Comedy', 'Family', 'Short', 'Short', 'Romance', 'Short', 'Drama', 'Romance', 'Documentary', 'Short', 'Short', 'Short', 'Short', 'Western', 'Short', 'Short', 'Drama', 'Short', 'Animation', 'Short', 'Family', 'Short', 'Short', 'Fantasy', 'Horror', 'Short', 'Short', 'Drama', 'Documentary', 'Short', 'Documentary', 'Short', 'History', 'Short', 'Short', 'Action', 'Adventure', 'Biography', 'Short', 'Adventure', 'Fantasy', 'Short', 'Drama', 'Fantasy', 'Short', 'Drama', 'Short', 'Comedy', 'Family', 'Western', 'Short', 'Documentary', 'Short', 'Short', 'Short', 'Drama', 'Short', 'Drama', 'Romance', 'Short', 'Crime', 'Drama', 'Short', 'Documentary', 'Drama', 'Short', 'Short', 'Short', 'Documentary', 'Short', 'Short', 'Comedy', 'Drama', 'Short', 'Documentary', 'Short', 'Short', 'Drama', 'Short', 'Drama', 'Short', 'Short', 'Short', 'Drama', 'Short', 'Drama', 'Short', 'Drama', 'Drama', 'Short', 'Adventure', 'Animation', 'Short', 'Short', 'Drama', 'Short', 'Crime', 'Drama', 'Short', 'Comedy', 'Short', 'Short', 'Comedy', 'Short', 'Drama', 'Music', 'Romance', 'Short', 'Drama', 'Romance', 'Adventure', 'Short', 'Documentary', 'Short', 'Short', 'Drama', 'Short', 'Fantasy', 'Horror', 'Drama', 'Documentary', 'Short', 'Short', 'Drama', 'Comedy', 'Short', 'Documentary', 'Short', 'Short', 'Drama', 'Short', 'Comedy', 'Fantasy', 'Short', 'Short', 'Comedy', 'Short', 'Documentary', 'Short', 'Short', 'Comedy', 'Short', 'Drama', 'Action', 'Short', 'Drama', 'Short', 'Drama', 'Short', 'Drama', 'Short', 'Short', 'Drama', 'Short', 'Drama', 'History', 'Romance', 'Short', 'Short', 'History', 'Drama', 'Short', 'Drama', 'Short', 'Comedy', 'Drama', 'Short', 'Short', 'Comedy', 'Short', 'Action', 'Short', 'Drama', 'History', 'War', 'Short', 'Drama', 'Short', 'Crime', 'Short', 'Short', 'Comedy', 'Short', 'Drama', 'Short', 'Comedy', 'Short', 'Drama', 'History', 'Short', 'Comedy', 'Drama', 'Short', 'Comedy', 'Short', 'Action', 'Short', 'Short', 'Short', 'Documentary', 'Animation', 'Short', 'Short', 'Drama', 'Short', 'Comedy', 'Short', 'Short', 'Drama', 'Romance', 'Short', 'Comedy', 'Short', 'Short', 'Drama', 'Documentary', 'Short', 'Sport', 'Documentary', 'Short', 'Sport', 'Action', 'Short', 'Drama', 'Short', 'Comedy', 'Fantasy', 'Short', 'Short', 'Drama', 'Short', 'Drama', 'Short', 'Short', 'Drama', 'Drama', 'Short', 'Drama', 'Drama', 'Short', 'Documentary', 'Short', 'Fantasy', 'Adventure', 'Short', 'Drama', 'Short', 'Drama', 'Animation', 'Short', 'Fantasy', 'Short', 'Crime', 'Short', 'Comedy', 'Short', 'Drama', 'Romance', 'Documentary', 'Short', 'Short', 'Drama', 'Short', 'Drama', 'Short', 'Crime', 'Short', 'Drama', 'Short', 'Short', 'History', 'Documentary', 'Short', 'Short', 'Action', 'Western', 'Short', 'Action', 'Short', 'Short', 'Action', 'War', 'Short', 'Drama', 'Romance', 'Short', 'Drama', 'Drama', 'Short', 'Short', 'Comedy', 'Short', 'Comedy', 'Animation', 'Short', 'Comedy', 'Short', 'Documentary', 'Short', 'Drama', 'Romance', 'Short', 'Action', 'Short', 'Comedy', 'Short', 'Drama', 'History', 'Short', 'Drama', 'History', 'Short', 'Western', 'Short', 'Comedy', 'Short', 'Drama', 'Short', 'Drama', 'Short', 'Western', 'Short', 'Comedy', 'Western', 'Short', 'Drama', 'Documentary', 'Short', 'Short', 'Documentary', 'Short', 'Drama', 'Short', 'Crime', 'Drama', 'Short', 'Drama', 'Short', 'Drama', 'Short', 'Short', 'Comedy', 'Short', 'Documentary', 'Short', 'Comedy', 'Short', 'Crime', 'Drama', 'Documentary', 'Short', 'Short', 'Comedy', 'Short', 'Comedy', 'Short', 'Drama', 'Short', 'Short', 'Drama', 'Romance', 'Short', 'Drama', 'Music', 'Romance', 'Short', 'Western', 'Short', 'Drama', 'Short', 'Drama', 'Short', 'Action', 'Short', 'Action', 'Drama', 'Short', 'Drama', 'Short', 'Comedy', 'Short', 'Short', 'Drama', 'Drama', 'Short', 'Action', 'Short', 'Western', 'Short', 'Action', 'Action', 'Short', 'Short', 'Drama', 'Drama', 'Short', 'Drama', 'Short', 'Short', 'Comedy', 'Short', 'Drama', 'Romance', 'Short', 'Comedy', 'Short', 'Short', 'Fantasy', 'Sci-Fi', 'Short', 'Mystery', 'Short', 'Comedy', 'Short', 'Drama', 'Mystery', 'Documentary', 'Short', 'History', 'Comedy', 'Short', 'Short', 'Drama', 'Short', 'Short', 'Western', 'Short', 'Drama', 'Short', 'Short', 'Short', 'Short', 'Comedy', 'Romance', 'Action', 'Short', 'Drama', 'Short', 'Short', 'Short', 'Drama', 'Short', 'Comedy', 'Short', 'Drama', 'Short', 'Comedy', 'Short', 'Comedy', 'Action', 'Short', 'Romance', 'Short', 'Short', 'Adventure', 'Drama', 'Documentary', 'Short', 'Short', 'Short', 'Drama', 'Short', 'Short', 'Drama', 'Action', 'Short', 'Short', 'Comedy', 'Action', 'Short', 'Short', 'Fantasy', 'Sci-Fi', 'Short', 'Short', 'Drama', 'Drama', 'Short', 'Drama', 'Short', 'Drama', 'Short', 'Short', 'Drama', 'Short', 'Drama', 'Short', 'Comedy', 'Short', 'Comedy', 'Drama', 'Short', 'Drama', 'Short', 'Comedy', 'Short', 'Drama', 'Documentary', 'Short', 'Short', 'Comedy', 'Short', 'Western', 'Short', 'Drama', 'Short', 'Romance', 'Short', 'Western', 'Short', 'Drama', 'Short', 'Drama', 'Short', 'Drama', 'Short', 'Short', 'Drama', 'Short', 'Drama', 'Short', 'Crime', 'Drama', 'Short', 'Documentary', 'Short', 'Drama', 'Short', 'Short', 'Short', 'Drama', 'Short', 'Drama', 'Short', 'Drama', 'Short', 'Comedy', 'Short', 'Western', 'Short', 'Drama', 'Short', 'Drama', 'Short', 'Drama', 'Short', 'Crime', 'Drama', 'Short', 'Crime', 'Drama', 'Short', 'Drama', 'Short', 'Drama', 'Short', 'Short', 'Short', 'Crime', 'Short', 'Drama', 'Short', 'Comedy', 'Short', 'Comedy', 'Short', 'Drama', 'Short', 'Drama', 'History', 'Short', 'Drama', 'Short', 'Short', 'Short', 'Comedy', 'Short', 'Drama', 'Drama', 'Short', 'Short', 'Drama', 'Short', 'Biography', 'Drama', 'Short', 'Short', 'Documentary', 'Short', 'Comedy', 'Short', 'Drama', 'Short', 'Drama', 'Short', 'Drama', 'Short', 'Comedy', 'Short', 'Comedy', 'Short', 'Crime', 'Drama', 'Short', 'Crime', 'Drama', 'Short', 'Drama', 'Short', 'Drama', 'Short', 'Drama', 'Short', 'Drama', 'Short', 'Comedy', 'Short', 'Drama', 'Comedy', 'Short', 'Comedy', 'Short', 'Comedy', 'Short', 'Short', 'Drama', 'Short', 'Short', 'Drama', 'Short', 'Mystery', 'Short', 'Drama', 'Short', 'Drama', 'Drama', 'Short', 'Short', 'Drama', 'Short', 'Western', 'Short', 'Western', 'Short', 'Comedy', 'Fantasy', 'Comedy', 'Short', 'Short', 'Western', 'Short', 'Drama', 'Drama', 'Short', 'War', 'Short', 'Drama', 'Mystery', 'Drama', 'Short', 'Short', 'Drama', 'Short', 'Western', 'Short', 'Short', 'Comedy', 'Comedy', 'Short', 'Short', 'Crime', 'Short', 'Drama', 'Western', 'Short', 'Short', 'Drama', 'Short', 'Drama', 'Short', 'Drama', 'War', 'Short', 'Drama', 'Short', 'Drama', 'Short', 'Drama', 'Western', 'Short', 'Short', 'Western', 'Short', 'Short', 'Comedy', 'Short', 'Comedy', 'Short', 'Comedy', 'Short', 'Drama', 'Short', 'Drama', 'Short', 'Comedy', 'Short', 'Comedy', 'Short', 'Comedy', 'Animation', 'Short', 'Short', 'Western', 'Short', 'Drama', 'History', 'Short', 'Drama', 'Short', 'Short', 'Comedy', 'Short', 'Short', 'Short', 'Drama', 'Short', 'Comedy', 'Drama', 'Short', 'Adventure', 'Short', 'Drama', 'Short', 'Drama', 'Short', 'Comedy', 'Short', 'Drama', 'Short', 'Drama', 'Drama', 'Short', 'Crime', 'Drama', 'Short', 'Comedy', 'Short', 'Drama', 'Short', 'Drama', 'Short', 'Short', 'Short', 'Short', 'Drama', 'Short', 'Drama', 'Short', 'Drama', 'Short', 'Drama', 'Short', 'Short', 'Comedy', 'Short', 'Drama', 'Short', 'Comedy', 'Short', 'Drama', 'Western', 'Short', 'Short', 'Drama', 'Short', 'Short', 'Western', 'Short', 'Comedy', 'Short', 'Drama', 'Fantasy', 'Romance', 'Short', 'Short', 'Short', 'Comedy', 'Short', 'Drama', 'History', 'Short', 'Biography', 'Drama', 'Short', 'Drama', 'Romance', 'Short', 'Drama', 'Short', 'Drama', 'Short', 'Comedy', 'Short', 'Comedy', 'Comedy', 'Short', 'Short', 'Short', 'Short', 'Drama', 'Short', 'Drama', 'Short', 'Drama', 'Short', 'Comedy', 'Short', 'Short', 'Drama', 'Short', 'Drama', 'Short', 'Comedy', 'Short', 'Comedy', 'Short', 'Comedy', 'Drama', 'Short', 'Short', 'Action', 'Drama', 'Short', 'Comedy', 'Short', 'Drama', 'Short', 'Drama', 'Short', 'Drama', 'Short', 'Drama', 'Short', 'Drama', 'Romance', 'Short', 'Drama', 'Short', 'Comedy']\n"
     ]
    }
   ],
   "source": [
    "print(flat_list_genre)"
   ]
  },
  {
   "cell_type": "code",
   "execution_count": 22,
   "id": "2bc16e91",
   "metadata": {
    "scrolled": true
   },
   "outputs": [
    {
     "name": "stdout",
     "output_type": "stream",
     "text": [
      "defaultdict(<function <lambda> at 0x7f05ba780940>, {'Documentary': 153, 'Short': 967, 'Animation': 16, 'Comedy': 189, 'Sport': 13, 'Romance': 25, 'News': 16, 'Drama': 233, 'Fantasy': 54, 'Horror': 25, 'Biography': 7, 'Music': 4, 'War': 10, 'Crime': 24, 'Western': 27, 'Family': 8, 'Adventure': 14, 'Action': 28, 'History': 14, 'Sci-Fi': 2, 'Mystery': 4})\n"
     ]
    }
   ],
   "source": [
    "from collections import defaultdict\n",
    "\n",
    "genre_default_dic = defaultdict(lambda: 0)\n",
    "\n",
    "for key in flat_list_genre:\n",
    "    genre_default_dic[key] += 1\n",
    "    \n",
    "print(genre_default_dic)"
   ]
  },
  {
   "cell_type": "code",
   "execution_count": 26,
   "id": "729d5547",
   "metadata": {},
   "outputs": [
    {
     "data": {
      "text/plain": [
       "0    William K.L. Dickson\n",
       "1           Émile Reynaud\n",
       "2           Émile Reynaud\n",
       "3           Émile Reynaud\n",
       "4    William K.L. Dickson\n",
       "Name: Director, dtype: object"
      ]
     },
     "execution_count": 26,
     "metadata": {},
     "output_type": "execute_result"
    }
   ],
   "source": [
    "df_director = df['Director']\n",
    "df_director.head()"
   ]
  },
  {
   "cell_type": "code",
   "execution_count": 27,
   "id": "41e13e3a",
   "metadata": {},
   "outputs": [],
   "source": [
    "df_director = df_director.dropna()"
   ]
  },
  {
   "cell_type": "code",
   "execution_count": 28,
   "id": "196ef770",
   "metadata": {},
   "outputs": [
    {
     "data": {
      "text/plain": [
       "0      William K.L. Dickson\n",
       "1             Émile Reynaud\n",
       "2             Émile Reynaud\n",
       "3             Émile Reynaud\n",
       "4      William K.L. Dickson\n",
       "               ...         \n",
       "995            Theo Frenkel\n",
       "996           D.W. Griffith\n",
       "997              Ugo Falena\n",
       "998            Viggo Larsen\n",
       "999           D.W. Griffith\n",
       "Name: Director, Length: 915, dtype: object"
      ]
     },
     "execution_count": 28,
     "metadata": {},
     "output_type": "execute_result"
    }
   ],
   "source": [
    "df_director"
   ]
  },
  {
   "cell_type": "code",
   "execution_count": 29,
   "id": "912c3ab4",
   "metadata": {},
   "outputs": [
    {
     "data": {
      "text/html": [
       "<div>\n",
       "<style scoped>\n",
       "    .dataframe tbody tr th:only-of-type {\n",
       "        vertical-align: middle;\n",
       "    }\n",
       "\n",
       "    .dataframe tbody tr th {\n",
       "        vertical-align: top;\n",
       "    }\n",
       "\n",
       "    .dataframe thead th {\n",
       "        text-align: right;\n",
       "    }\n",
       "</style>\n",
       "<table border=\"1\" class=\"dataframe\">\n",
       "  <thead>\n",
       "    <tr style=\"text-align: right;\">\n",
       "      <th></th>\n",
       "      <th>Director</th>\n",
       "    </tr>\n",
       "  </thead>\n",
       "  <tbody>\n",
       "    <tr>\n",
       "      <th>0</th>\n",
       "      <td>William K.L. Dickson</td>\n",
       "    </tr>\n",
       "    <tr>\n",
       "      <th>1</th>\n",
       "      <td>Émile Reynaud</td>\n",
       "    </tr>\n",
       "    <tr>\n",
       "      <th>2</th>\n",
       "      <td>Émile Reynaud</td>\n",
       "    </tr>\n",
       "    <tr>\n",
       "      <th>3</th>\n",
       "      <td>Émile Reynaud</td>\n",
       "    </tr>\n",
       "    <tr>\n",
       "      <th>4</th>\n",
       "      <td>William K.L. Dickson</td>\n",
       "    </tr>\n",
       "  </tbody>\n",
       "</table>\n",
       "</div>"
      ],
      "text/plain": [
       "               Director\n",
       "0  William K.L. Dickson\n",
       "1         Émile Reynaud\n",
       "2         Émile Reynaud\n",
       "3         Émile Reynaud\n",
       "4  William K.L. Dickson"
      ]
     },
     "execution_count": 29,
     "metadata": {},
     "output_type": "execute_result"
    }
   ],
   "source": [
    "df_director = pd.DataFrame(df_director)\n",
    "df_director.head()"
   ]
  },
  {
   "cell_type": "code",
   "execution_count": 32,
   "id": "d60d6603",
   "metadata": {},
   "outputs": [
    {
     "name": "stdout",
     "output_type": "stream",
     "text": [
      "defaultdict(<function <lambda> at 0x7f05b90d5b80>, {'William K.L. Dickson': 17, 'Émile Reynaud': 4, 'William K.L. Dickson, William Heise': 1, 'Alexander Black': 1, 'Louis Lumière': 16, 'Max Skladanowsky': 4, 'Auguste Lumière, Louis Lumière': 2, 'Emil Skladanowsky, Max Skladanowsky': 1, 'James Williamson': 3, 'Birt Acres': 7, 'Birt Acres, Robert W. Paul': 1, 'Georges Méliès': 109, 'William Heise': 1, 'Gabriel Veyre': 1, 'Francisco Pinto Moreira': 1, 'Henry Short': 4, 'Aurélio da Paz dos Reis': 2, 'Auguste Lumière, Alexandre Promio': 1, 'Alfred Moul': 1, 'Alice Guy': 172, 'James H. White': 3, 'Enoch J. Rector': 1, 'George Albert Smith': 21, 'Walter R. Booth': 13, 'Alexandre Promio': 2, 'Fructuós Gelabert': 46, 'Eduardo Jimeno': 1, 'Robert W. Paul': 7, 'J. Stuart Blackton': 22, 'Jan Krízenecký': 3, 'Edwin S. Porter': 27, 'Cecil M. Hepworth': 2, 'Manuel Maria da Costa Veiga': 5, 'Sir Robert Ashe': 1, 'Walter Pfeffer Dando, William K.L. Dickson, Herbert Beerbohm Tree': 1, 'Arthur Melbourne Cooper': 1, 'J. Stuart Blackton, Albert E. Smith': 2, 'Clément Maurice': 1, 'Tsunekichi Shibata': 1, 'Herbert Booth, Joseph Perry': 1, 'Ferdinand Zecca': 4, 'Béla Zsitkovszky': 1, 'Lucien Nonguet, Ferdinand Zecca': 1, 'Georges Méliès, Charles Urban': 1, 'George S. Fleming, Edwin S. Porter': 2, 'Frederick S. Armitage': 1, 'Arthur Marvin': 1, 'William Haggar': 4, 'Cecil M. Hepworth, Percy Stow': 1, 'Walter R. Booth, Robert W. Paul': 1, 'Segundo de Chomón': 6, 'Peter Elfelt': 1, 'Joe Rosenthal': 1, 'Wallace McCutcheon': 34, 'Siegmund Lubin': 2, 'Alf Collins': 1, 'Harold M. Shaw': 1, 'Lewin Fitzhamon, Cecil M. Hepworth': 1, 'Ricardo de Baños': 5, 'Ignacio Coyne': 10, 'Georges Hatot, André Heuzé': 1, 'Georges Hatot': 1, 'Alice Guy, Victorin-Hippolyte Jasset': 1, 'G.W. Bitzer': 1, 'Jean Durand': 2, \"Gilbert M. 'Broncho Billy' Anderson\": 12, 'Viggo Larsen': 35, 'Albert Kutzner, Oskar Messter': 1, 'Ole Olsen': 3, 'J.H. Martin': 1, 'Wallace McCutcheon, Edwin S. Porter': 1, 'Louis Halberstadt': 1, 'Louis Halberstadt, Viggo Larsen': 1, 'Charles Tait': 1, 'João Freire Correia': 1, 'Sidney Olcott, Frank Oakes Rose': 1, 'Antonio Cuesta, Angel García Cardona': 1, 'Viggo Larsen, Gustav Lund': 1, 'Michel Carré': 1, 'Arthur Cornwall, George Cornwell': 1, 'Segundo de Chomón, Ferdinand Zecca': 2, 'Franz Porten': 3, 'Narciso Cuyàs': 5, 'Mario Caserini, Gaston Velle': 2, 'Francis Boggs': 3, 'Lino Ferreira': 1, 'Charles MacMahon': 1, 'Teuvo Puro, Louis Sparre': 1, 'Lewin Fitzhamon': 1, 'Narciso Cuyàs, Fructuós Gelabert': 1, 'D.W. Griffith, G.W. Bitzer': 1, 'D.W. Griffith': 142, 'Mario Caserini': 2, 'Luca Comerio': 1, 'Theo Frenkel': 20, 'J. Stuart Blackton, Charles Kent': 1, 'Kenean Buel': 1, 'André Calmettes, Charles Le Bargy': 1, 'Wallace McCutcheon Jr.': 1, 'D.W. Griffith, Wallace McCutcheon Jr.': 1, 'Carlo Montuori': 1, 'Émile Cohl': 3, 'Francis Boggs, Thomas Persons': 1, 'J. Searle Dawley': 5, 'Fructuós Gelabert, Enrique Jiménez': 2, 'Ricardo de Baños, Alberto Marro': 7, 'Francis Boggs, Otis Turner': 1, 'Sidney Olcott': 1, 'Van Dyke Brooke': 7, 'Mario Gallo': 1, 'J. Stuart Blackton, William V. Ranous': 4, 'José María Codina, Fructuós Gelabert': 1, 'William V. Ranous': 1, 'Stanner E.V. Taylor': 1, 'Antonio Cuesta': 1, 'Arturo Ambrosio, Luigi Maggi': 1, 'Rudolf Biebrach, Franz Porten': 1, 'Carl Alstrup': 1, 'Francisco Oliver': 1, 'José María Bosch, Fructuós Gelabert': 1, 'João Freire Correia, Lino Ferreira': 1, 'Ernesto de Albuquerque': 1, 'D.W. Griffith, Mack Sennett': 1, 'Vasili Goncharov': 1, 'Hermanos Alva': 5, 'Heinrich Bolten-Baeckers': 3, 'Emanuel Tvede': 1, 'Yakov Protazanov': 1, 'Gérard Bourgeois': 1, 'Al Christie, Jack Conway, Milton J. Fahrney': 1, 'Max Linder': 2, 'André Calmettes': 1, 'Charles Kent, J. Stuart Blackton(co-director)': 1, 'Léonce Perret': 1, 'Alfred Machin': 1, 'Holger Rasmussen': 1, 'Axel Graatkjær': 1, 'Ugo Falena': 1})\n"
     ]
    }
   ],
   "source": [
    "director_default_dic = defaultdict(lambda: 0)\n",
    "\n",
    "for key in df_director['Director']:\n",
    "    director_default_dic[key] += 1\n",
    "    \n",
    "print(director_default_dic)"
   ]
  },
  {
   "cell_type": "code",
   "execution_count": 38,
   "id": "d98d1e9b",
   "metadata": {
    "scrolled": true
   },
   "outputs": [
    {
     "name": "stdout",
     "output_type": "stream",
     "text": [
      "defaultdict(<function <lambda> at 0x7f05b8905dc0>, {'William K.L. Dickson': 17, 'Louis Lumière': 16, 'Georges Méliès': 109, 'Alice Guy': 172, 'George Albert Smith': 21, 'Walter R. Booth': 13, 'Fructuós Gelabert': 46, 'J. Stuart Blackton': 22, 'Edwin S. Porter': 27, 'Wallace McCutcheon': 34, 'Ignacio Coyne': 10, \"Gilbert M. 'Broncho Billy' Anderson\": 12, 'Viggo Larsen': 35, 'D.W. Griffith': 142, 'Theo Frenkel': 20})\n"
     ]
    }
   ],
   "source": [
    "top_director_default_dict = defaultdict(lambda: 0)\n",
    "\n",
    "for director in director_default_dic:\n",
    "    if director_default_dic.get(director) >= 10:\n",
    "        top_director_default_dict[director] += director_default_dic.get(director)\n",
    "        \n",
    "print(top_director_default_dict)"
   ]
  },
  {
   "cell_type": "code",
   "execution_count": 42,
   "id": "9f2ac3a2",
   "metadata": {},
   "outputs": [],
   "source": [
    "df_country = df['Country'].dropna()"
   ]
  },
  {
   "cell_type": "code",
   "execution_count": 43,
   "id": "bd83bbf3",
   "metadata": {},
   "outputs": [
    {
     "data": {
      "text/plain": [
       "defaultdict(<function __main__.<lambda>()>,\n",
       "            {'United States': 196,\n",
       "             'France': 335,\n",
       "             'Germany': 16,\n",
       "             'United Kingdom': 75,\n",
       "             'USA': 151,\n",
       "             'UK': 29,\n",
       "             'Mexico': 6,\n",
       "             'Portugal': 15,\n",
       "             'Spain': 89,\n",
       "             'Sweden, France': 1,\n",
       "             'Austria, Hungary': 1,\n",
       "             'Czechoslovakia': 2,\n",
       "             'Japan': 1,\n",
       "             'Australia': 4,\n",
       "             'Hungary': 1,\n",
       "             'Denmark': 56,\n",
       "             'United Kingdom, Canada': 1,\n",
       "             'Spain, France': 1,\n",
       "             'Italy': 9,\n",
       "             'Finland': 1,\n",
       "             'Argentina': 1,\n",
       "             'Spain, Italy': 1,\n",
       "             'Russia': 2,\n",
       "             'France, Belgium': 1})"
      ]
     },
     "execution_count": 43,
     "metadata": {},
     "output_type": "execute_result"
    }
   ],
   "source": [
    "country_default_dic = defaultdict(lambda: 0)\n",
    "\n",
    "for country in df_country: \n",
    "    country_default_dic[country] += 1\n",
    "    \n",
    "country_default_dic"
   ]
  },
  {
   "cell_type": "code",
   "execution_count": 45,
   "id": "0e9f4c6c",
   "metadata": {},
   "outputs": [
    {
     "name": "stdout",
     "output_type": "stream",
     "text": [
      "defaultdict(<function <lambda> at 0x7f05b852c940>, {'United States': 347, 'France': 335, 'Germany': 16, 'United Kingdom': 75, 'UK': 29, 'Portugal': 15, 'Spain': 89, 'Denmark': 56})\n"
     ]
    }
   ],
   "source": [
    "top_country_default_dic = defaultdict(lambda : 0)\n",
    "\n",
    "for country in country_default_dic:\n",
    "    if country_default_dic.get(country) >= 15:\n",
    "        if country == 'USA':\n",
    "            top_country_default_dic['United States'] += country_default_dic.get(country)\n",
    "        else:\n",
    "            top_country_default_dic[country] = country_default_dic.get(country)\n",
    "\n",
    "        \n",
    "print(top_country_default_dic)"
   ]
  },
  {
   "cell_type": "code",
   "execution_count": 49,
   "id": "8ced117c",
   "metadata": {},
   "outputs": [
    {
     "data": {
      "text/plain": [
       "Unnamed: 0       0\n",
       "Title            1\n",
       "Year             1\n",
       "Rated          909\n",
       "Released       446\n",
       "Runtime        551\n",
       "Genre           23\n",
       "Director        85\n",
       "Writer         660\n",
       "Actors         489\n",
       "Plot           397\n",
       "Language        78\n",
       "Country          5\n",
       "Awards         979\n",
       "Poster         620\n",
       "Ratings          1\n",
       "Metascore     1000\n",
       "imdbRating     335\n",
       "imdbVotes      329\n",
       "imdbID           1\n",
       "Type             1\n",
       "DVD           1000\n",
       "BoxOffice     1000\n",
       "Production    1000\n",
       "Website       1000\n",
       "Response         0\n",
       "Error          999\n",
       "dtype: int64"
      ]
     },
     "execution_count": 49,
     "metadata": {},
     "output_type": "execute_result"
    }
   ],
   "source": [
    "df.isna().sum()"
   ]
  }
 ],
 "metadata": {
  "kernelspec": {
   "display_name": "Python 3 (ipykernel)",
   "language": "python",
   "name": "python3"
  },
  "language_info": {
   "codemirror_mode": {
    "name": "ipython",
    "version": 3
   },
   "file_extension": ".py",
   "mimetype": "text/x-python",
   "name": "python",
   "nbconvert_exporter": "python",
   "pygments_lexer": "ipython3",
   "version": "3.9.2"
  }
 },
 "nbformat": 4,
 "nbformat_minor": 5
}
